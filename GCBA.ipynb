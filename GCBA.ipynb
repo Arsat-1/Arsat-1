{
  "nbformat": 4,
  "nbformat_minor": 0,
  "metadata": {
    "colab": {
      "name": "GCBA.ipynb",
      "provenance": [],
      "collapsed_sections": [],
      "authorship_tag": "ABX9TyMVXk5ebTEiTG2G3goXAlX/",
      "include_colab_link": true
    },
    "kernelspec": {
      "name": "python3",
      "display_name": "Python 3"
    },
    "language_info": {
      "name": "python"
    }
  },
  "cells": [
    {
      "cell_type": "markdown",
      "metadata": {
        "id": "view-in-github",
        "colab_type": "text"
      },
      "source": [
        "<a href=\"https://colab.research.google.com/github/Arsat-1/Arsat-1/blob/main/GCBA.ipynb\" target=\"_parent\"><img src=\"https://colab.research.google.com/assets/colab-badge.svg\" alt=\"Open In Colab\"/></a>"
      ]
    },
    {
      "cell_type": "code",
      "metadata": {
        "colab": {
          "base_uri": "https://localhost:8080/"
        },
        "id": "CzEW7ttcEs-0",
        "outputId": "520f75a5-6295-4c10-a09c-3d9045d08d29"
      },
      "source": [
        "!pip install --upgrade geopandas\n",
        "!pip install --upgrade pyshp\n",
        "!pip install --upgrade shapely\n",
        "!pip install --upgrade descartes"
      ],
      "execution_count": null,
      "outputs": [
        {
          "output_type": "stream",
          "text": [
            "Requirement already satisfied: geopandas in /usr/local/lib/python3.7/dist-packages (0.9.0)\n",
            "Requirement already satisfied: fiona>=1.8 in /usr/local/lib/python3.7/dist-packages (from geopandas) (1.8.20)\n",
            "Requirement already satisfied: pandas>=0.24.0 in /usr/local/lib/python3.7/dist-packages (from geopandas) (1.1.5)\n",
            "Requirement already satisfied: pyproj>=2.2.0 in /usr/local/lib/python3.7/dist-packages (from geopandas) (3.1.0)\n",
            "Requirement already satisfied: shapely>=1.6 in /usr/local/lib/python3.7/dist-packages (from geopandas) (1.7.1)\n",
            "Requirement already satisfied: six>=1.7 in /usr/local/lib/python3.7/dist-packages (from fiona>=1.8->geopandas) (1.15.0)\n",
            "Requirement already satisfied: certifi in /usr/local/lib/python3.7/dist-packages (from fiona>=1.8->geopandas) (2021.5.30)\n",
            "Requirement already satisfied: attrs>=17 in /usr/local/lib/python3.7/dist-packages (from fiona>=1.8->geopandas) (21.2.0)\n",
            "Requirement already satisfied: cligj>=0.5 in /usr/local/lib/python3.7/dist-packages (from fiona>=1.8->geopandas) (0.7.2)\n",
            "Requirement already satisfied: munch in /usr/local/lib/python3.7/dist-packages (from fiona>=1.8->geopandas) (2.5.0)\n",
            "Requirement already satisfied: click>=4.0 in /usr/local/lib/python3.7/dist-packages (from fiona>=1.8->geopandas) (7.1.2)\n",
            "Requirement already satisfied: click-plugins>=1.0 in /usr/local/lib/python3.7/dist-packages (from fiona>=1.8->geopandas) (1.1.1)\n",
            "Requirement already satisfied: setuptools in /usr/local/lib/python3.7/dist-packages (from fiona>=1.8->geopandas) (57.2.0)\n",
            "Requirement already satisfied: numpy>=1.15.4 in /usr/local/lib/python3.7/dist-packages (from pandas>=0.24.0->geopandas) (1.19.5)\n",
            "Requirement already satisfied: pytz>=2017.2 in /usr/local/lib/python3.7/dist-packages (from pandas>=0.24.0->geopandas) (2018.9)\n",
            "Requirement already satisfied: python-dateutil>=2.7.3 in /usr/local/lib/python3.7/dist-packages (from pandas>=0.24.0->geopandas) (2.8.1)\n",
            "Requirement already satisfied: pyshp in /usr/local/lib/python3.7/dist-packages (2.1.3)\n",
            "Requirement already satisfied: shapely in /usr/local/lib/python3.7/dist-packages (1.7.1)\n",
            "Requirement already satisfied: descartes in /usr/local/lib/python3.7/dist-packages (1.1.0)\n",
            "Requirement already satisfied: matplotlib in /usr/local/lib/python3.7/dist-packages (from descartes) (3.2.2)\n",
            "Requirement already satisfied: numpy>=1.11 in /usr/local/lib/python3.7/dist-packages (from matplotlib->descartes) (1.19.5)\n",
            "Requirement already satisfied: cycler>=0.10 in /usr/local/lib/python3.7/dist-packages (from matplotlib->descartes) (0.10.0)\n",
            "Requirement already satisfied: pyparsing!=2.0.4,!=2.1.2,!=2.1.6,>=2.0.1 in /usr/local/lib/python3.7/dist-packages (from matplotlib->descartes) (2.4.7)\n",
            "Requirement already satisfied: python-dateutil>=2.1 in /usr/local/lib/python3.7/dist-packages (from matplotlib->descartes) (2.8.1)\n",
            "Requirement already satisfied: kiwisolver>=1.0.1 in /usr/local/lib/python3.7/dist-packages (from matplotlib->descartes) (1.3.1)\n",
            "Requirement already satisfied: six in /usr/local/lib/python3.7/dist-packages (from cycler>=0.10->matplotlib->descartes) (1.15.0)\n"
          ],
          "name": "stdout"
        }
      ]
    },
    {
      "cell_type": "code",
      "metadata": {
        "id": "-KC7mLlEX3aT"
      },
      "source": [
        "import pandas as pd\n",
        "import numpy as np\n",
        "from matplotlib import pyplot as plt\n",
        "import seaborn as sns\n",
        "import geopandas as gpd\n",
        "from shapely import wkt"
      ],
      "execution_count": null,
      "outputs": []
    },
    {
      "cell_type": "code",
      "metadata": {
        "colab": {
          "base_uri": "https://localhost:8080/",
          "height": 306
        },
        "id": "IS0FJskuSqR_",
        "outputId": "c0117e1a-e6e3-4c02-cf05-1d7035327492"
      },
      "source": [
        "recorridos_2021 = pd.read_csv(\"/content/recorridos-realizados-2021.csv\")\n",
        "recorridos_2021.head()"
      ],
      "execution_count": null,
      "outputs": [
        {
          "output_type": "execute_result",
          "data": {
            "text/html": [
              "<div>\n",
              "<style scoped>\n",
              "    .dataframe tbody tr th:only-of-type {\n",
              "        vertical-align: middle;\n",
              "    }\n",
              "\n",
              "    .dataframe tbody tr th {\n",
              "        vertical-align: top;\n",
              "    }\n",
              "\n",
              "    .dataframe thead th {\n",
              "        text-align: right;\n",
              "    }\n",
              "</style>\n",
              "<table border=\"1\" class=\"dataframe\">\n",
              "  <thead>\n",
              "    <tr style=\"text-align: right;\">\n",
              "      <th></th>\n",
              "      <th>ID</th>\n",
              "      <th>Estado cerrado</th>\n",
              "      <th>Duración</th>\n",
              "      <th>Id de estación de inicio</th>\n",
              "      <th>Fecha de inicio</th>\n",
              "      <th>Nombre de estación de inicio</th>\n",
              "      <th>Fecha de fin</th>\n",
              "      <th>Id de estación de fin de viaje</th>\n",
              "      <th>Nombre de estación de fin de viaje</th>\n",
              "      <th>ID de ciclista</th>\n",
              "      <th>Tipo de ciclista</th>\n",
              "      <th>Modelo de bicicleta</th>\n",
              "      <th>Origen de viaje</th>\n",
              "    </tr>\n",
              "  </thead>\n",
              "  <tbody>\n",
              "    <tr>\n",
              "      <th>0</th>\n",
              "      <td>11204995</td>\n",
              "      <td>NORMAL</td>\n",
              "      <td>437</td>\n",
              "      <td>131</td>\n",
              "      <td>2021-06-02 16:14:35</td>\n",
              "      <td>131- HOSPITAL DE CLÍNICAS</td>\n",
              "      <td>2021-06-02 16:21:52</td>\n",
              "      <td>38.0</td>\n",
              "      <td>038 - Plaza Libertad</td>\n",
              "      <td>119795</td>\n",
              "      <td>MEMBER</td>\n",
              "      <td>ICONIC</td>\n",
              "      <td>CODE</td>\n",
              "    </tr>\n",
              "    <tr>\n",
              "      <th>1</th>\n",
              "      <td>11204938</td>\n",
              "      <td>NORMAL</td>\n",
              "      <td>406</td>\n",
              "      <td>387</td>\n",
              "      <td>2021-06-02 16:11:01</td>\n",
              "      <td>278 - Donato Alvarez</td>\n",
              "      <td>2021-06-02 16:17:47</td>\n",
              "      <td>262.0</td>\n",
              "      <td>349 - Plaza Saenz Peña</td>\n",
              "      <td>348428</td>\n",
              "      <td>MEMBER</td>\n",
              "      <td>ICONIC</td>\n",
              "      <td>CODE</td>\n",
              "    </tr>\n",
              "    <tr>\n",
              "      <th>2</th>\n",
              "      <td>11204928</td>\n",
              "      <td>NORMAL</td>\n",
              "      <td>299</td>\n",
              "      <td>232</td>\n",
              "      <td>2021-06-02 16:10:08</td>\n",
              "      <td>252 - Tamborini</td>\n",
              "      <td>2021-06-02 16:15:07</td>\n",
              "      <td>386.0</td>\n",
              "      <td>277 - Coghlan</td>\n",
              "      <td>690073</td>\n",
              "      <td>MEMBER</td>\n",
              "      <td>ICONIC</td>\n",
              "      <td>CODE</td>\n",
              "    </tr>\n",
              "    <tr>\n",
              "      <th>3</th>\n",
              "      <td>11204920</td>\n",
              "      <td>NORMAL</td>\n",
              "      <td>400</td>\n",
              "      <td>117</td>\n",
              "      <td>2021-06-02 16:09:34</td>\n",
              "      <td>117 - HUMBERTO 1°</td>\n",
              "      <td>2021-06-02 16:16:14</td>\n",
              "      <td>175.0</td>\n",
              "      <td>147 - Constitución</td>\n",
              "      <td>713938</td>\n",
              "      <td>MEMBER</td>\n",
              "      <td>ICONIC</td>\n",
              "      <td>CODE</td>\n",
              "    </tr>\n",
              "    <tr>\n",
              "      <th>4</th>\n",
              "      <td>11204919</td>\n",
              "      <td>NORMAL</td>\n",
              "      <td>591</td>\n",
              "      <td>212</td>\n",
              "      <td>2021-06-02 16:09:32</td>\n",
              "      <td>129 - Velasco</td>\n",
              "      <td>2021-06-02 16:19:23</td>\n",
              "      <td>158.0</td>\n",
              "      <td>158 - VILLARROEL</td>\n",
              "      <td>35926</td>\n",
              "      <td>MEMBER</td>\n",
              "      <td>ICONIC</td>\n",
              "      <td>CODE</td>\n",
              "    </tr>\n",
              "  </tbody>\n",
              "</table>\n",
              "</div>"
            ],
            "text/plain": [
              "         ID Estado cerrado  ...  Modelo de bicicleta  Origen de viaje\n",
              "0  11204995         NORMAL  ...               ICONIC             CODE\n",
              "1  11204938         NORMAL  ...               ICONIC             CODE\n",
              "2  11204928         NORMAL  ...               ICONIC             CODE\n",
              "3  11204920         NORMAL  ...               ICONIC             CODE\n",
              "4  11204919         NORMAL  ...               ICONIC             CODE\n",
              "\n",
              "[5 rows x 13 columns]"
            ]
          },
          "metadata": {
            "tags": []
          },
          "execution_count": 3
        }
      ]
    },
    {
      "cell_type": "code",
      "metadata": {
        "colab": {
          "base_uri": "https://localhost:8080/",
          "height": 323
        },
        "id": "B38YoedrVLDl",
        "outputId": "43f3b6b7-2456-43a8-acfd-2fbe0ef08cdc"
      },
      "source": [
        "recorridos_2021.tail()"
      ],
      "execution_count": null,
      "outputs": [
        {
          "output_type": "execute_result",
          "data": {
            "text/html": [
              "<div>\n",
              "<style scoped>\n",
              "    .dataframe tbody tr th:only-of-type {\n",
              "        vertical-align: middle;\n",
              "    }\n",
              "\n",
              "    .dataframe tbody tr th {\n",
              "        vertical-align: top;\n",
              "    }\n",
              "\n",
              "    .dataframe thead th {\n",
              "        text-align: right;\n",
              "    }\n",
              "</style>\n",
              "<table border=\"1\" class=\"dataframe\">\n",
              "  <thead>\n",
              "    <tr style=\"text-align: right;\">\n",
              "      <th></th>\n",
              "      <th>ID</th>\n",
              "      <th>Estado cerrado</th>\n",
              "      <th>Duración</th>\n",
              "      <th>Id de estación de inicio</th>\n",
              "      <th>Fecha de inicio</th>\n",
              "      <th>Nombre de estación de inicio</th>\n",
              "      <th>Fecha de fin</th>\n",
              "      <th>Id de estación de fin de viaje</th>\n",
              "      <th>Nombre de estación de fin de viaje</th>\n",
              "      <th>ID de ciclista</th>\n",
              "      <th>Tipo de ciclista</th>\n",
              "      <th>Modelo de bicicleta</th>\n",
              "      <th>Origen de viaje</th>\n",
              "    </tr>\n",
              "  </thead>\n",
              "  <tbody>\n",
              "    <tr>\n",
              "      <th>1328721</th>\n",
              "      <td>9646396</td>\n",
              "      <td>NORMAL</td>\n",
              "      <td>690</td>\n",
              "      <td>277</td>\n",
              "      <td>2021-01-01 00:09:43</td>\n",
              "      <td>292 - PLAZA BOLIVIA</td>\n",
              "      <td>2021-01-01 00:21:13</td>\n",
              "      <td>44.0</td>\n",
              "      <td>044 - Ecoparque</td>\n",
              "      <td>62246</td>\n",
              "      <td>MEMBER</td>\n",
              "      <td>ICONIC</td>\n",
              "      <td>CODE</td>\n",
              "    </tr>\n",
              "    <tr>\n",
              "      <th>1328722</th>\n",
              "      <td>9646395</td>\n",
              "      <td>NORMAL</td>\n",
              "      <td>1360</td>\n",
              "      <td>79</td>\n",
              "      <td>2021-01-01 00:08:40</td>\n",
              "      <td>079 - AZUCENA VILLAFLOR</td>\n",
              "      <td>2021-01-01 00:31:20</td>\n",
              "      <td>168.0</td>\n",
              "      <td>168 - Estados Unidos</td>\n",
              "      <td>445201</td>\n",
              "      <td>MEMBER</td>\n",
              "      <td>ICONIC</td>\n",
              "      <td>CODE</td>\n",
              "    </tr>\n",
              "    <tr>\n",
              "      <th>1328723</th>\n",
              "      <td>9646394</td>\n",
              "      <td>NORMAL</td>\n",
              "      <td>1169</td>\n",
              "      <td>79</td>\n",
              "      <td>2021-01-01 00:08:37</td>\n",
              "      <td>079 - AZUCENA VILLAFLOR</td>\n",
              "      <td>2021-01-01 00:28:06</td>\n",
              "      <td>8.0</td>\n",
              "      <td>008 - Congreso</td>\n",
              "      <td>554162</td>\n",
              "      <td>MEMBER</td>\n",
              "      <td>ICONIC</td>\n",
              "      <td>CODE</td>\n",
              "    </tr>\n",
              "    <tr>\n",
              "      <th>1328724</th>\n",
              "      <td>9646393</td>\n",
              "      <td>NORMAL</td>\n",
              "      <td>1031</td>\n",
              "      <td>79</td>\n",
              "      <td>2021-01-01 00:06:50</td>\n",
              "      <td>079 - AZUCENA VILLAFLOR</td>\n",
              "      <td>2021-01-01 00:24:01</td>\n",
              "      <td>75.0</td>\n",
              "      <td>075 - Plaza Primero de Mayo</td>\n",
              "      <td>51005</td>\n",
              "      <td>MEMBER</td>\n",
              "      <td>ICONIC</td>\n",
              "      <td>CODE</td>\n",
              "    </tr>\n",
              "    <tr>\n",
              "      <th>1328725</th>\n",
              "      <td>9646392</td>\n",
              "      <td>NORMAL</td>\n",
              "      <td>1795</td>\n",
              "      <td>79</td>\n",
              "      <td>2021-01-01 00:04:26</td>\n",
              "      <td>079 - AZUCENA VILLAFLOR</td>\n",
              "      <td>2021-01-01 00:34:21</td>\n",
              "      <td>207.0</td>\n",
              "      <td>123 - Armenia</td>\n",
              "      <td>734428</td>\n",
              "      <td>MEMBER</td>\n",
              "      <td>ICONIC</td>\n",
              "      <td>CODE</td>\n",
              "    </tr>\n",
              "  </tbody>\n",
              "</table>\n",
              "</div>"
            ],
            "text/plain": [
              "              ID Estado cerrado  ...  Modelo de bicicleta  Origen de viaje\n",
              "1328721  9646396         NORMAL  ...               ICONIC             CODE\n",
              "1328722  9646395         NORMAL  ...               ICONIC             CODE\n",
              "1328723  9646394         NORMAL  ...               ICONIC             CODE\n",
              "1328724  9646393         NORMAL  ...               ICONIC             CODE\n",
              "1328725  9646392         NORMAL  ...               ICONIC             CODE\n",
              "\n",
              "[5 rows x 13 columns]"
            ]
          },
          "metadata": {
            "tags": []
          },
          "execution_count": 4
        }
      ]
    },
    {
      "cell_type": "code",
      "metadata": {
        "id": "TuSrbA567yLs"
      },
      "source": [
        "localizaciones = pd.read_csv(\"/content/nuevas-estaciones-bicicletas-publicas.csv\")"
      ],
      "execution_count": null,
      "outputs": []
    },
    {
      "cell_type": "code",
      "metadata": {
        "id": "c9sJ6iK0ZgYK"
      },
      "source": [
        "caba = gpd.read_file(\"https://cdn.buenosaires.gob.ar/datosabiertos/datasets/barrios/barrios.geojson\")"
      ],
      "execution_count": null,
      "outputs": []
    },
    {
      "cell_type": "code",
      "metadata": {
        "id": "kdz0nVF_Lt-N"
      },
      "source": [
        "estaciones_babici = gpd.read_file('/content/estaciones_de_bicicletas_WGS84.shp')"
      ],
      "execution_count": null,
      "outputs": []
    },
    {
      "cell_type": "markdown",
      "metadata": {
        "id": "aYdmvVHEgFoO"
      },
      "source": [
        "¿Que filas tienen valores **NaN** en sus columnas?"
      ]
    },
    {
      "cell_type": "code",
      "metadata": {
        "colab": {
          "base_uri": "https://localhost:8080/",
          "height": 227
        },
        "id": "TEzNPp8UVQyX",
        "outputId": "ec213ea0-175a-49d8-ade1-17030619075d"
      },
      "source": [
        "df1 = recorridos_2021[recorridos_2021.isna().any(axis=1)]\n",
        "df1"
      ],
      "execution_count": null,
      "outputs": [
        {
          "output_type": "execute_result",
          "data": {
            "text/html": [
              "<div>\n",
              "<style scoped>\n",
              "    .dataframe tbody tr th:only-of-type {\n",
              "        vertical-align: middle;\n",
              "    }\n",
              "\n",
              "    .dataframe tbody tr th {\n",
              "        vertical-align: top;\n",
              "    }\n",
              "\n",
              "    .dataframe thead th {\n",
              "        text-align: right;\n",
              "    }\n",
              "</style>\n",
              "<table border=\"1\" class=\"dataframe\">\n",
              "  <thead>\n",
              "    <tr style=\"text-align: right;\">\n",
              "      <th></th>\n",
              "      <th>ID</th>\n",
              "      <th>Estado cerrado</th>\n",
              "      <th>Duración</th>\n",
              "      <th>Id de estación de inicio</th>\n",
              "      <th>Fecha de inicio</th>\n",
              "      <th>Nombre de estación de inicio</th>\n",
              "      <th>Fecha de fin</th>\n",
              "      <th>Id de estación de fin de viaje</th>\n",
              "      <th>Nombre de estación de fin de viaje</th>\n",
              "      <th>ID de ciclista</th>\n",
              "      <th>Tipo de ciclista</th>\n",
              "      <th>Modelo de bicicleta</th>\n",
              "      <th>Origen de viaje</th>\n",
              "    </tr>\n",
              "  </thead>\n",
              "  <tbody>\n",
              "    <tr>\n",
              "      <th>124010</th>\n",
              "      <td>11054021</td>\n",
              "      <td>TERMINATED</td>\n",
              "      <td>0</td>\n",
              "      <td>33</td>\n",
              "      <td>2021-05-12 14:16:36</td>\n",
              "      <td>033 - Facultad de Medicina</td>\n",
              "      <td>2021-05-12 14:16:36</td>\n",
              "      <td>NaN</td>\n",
              "      <td>NaN</td>\n",
              "      <td>718500</td>\n",
              "      <td>MEMBER</td>\n",
              "      <td>ICONIC</td>\n",
              "      <td>CODE</td>\n",
              "    </tr>\n",
              "    <tr>\n",
              "      <th>394023</th>\n",
              "      <td>10729878</td>\n",
              "      <td>TERMINATED</td>\n",
              "      <td>0</td>\n",
              "      <td>359</td>\n",
              "      <td>2021-04-07 12:49:51</td>\n",
              "      <td>250 - Fleni</td>\n",
              "      <td>2021-04-07 12:49:51</td>\n",
              "      <td>NaN</td>\n",
              "      <td>NaN</td>\n",
              "      <td>753996</td>\n",
              "      <td>MEMBER</td>\n",
              "      <td>ICONIC</td>\n",
              "      <td>CODE</td>\n",
              "    </tr>\n",
              "    <tr>\n",
              "      <th>435319</th>\n",
              "      <td>10679335</td>\n",
              "      <td>TERMINATED</td>\n",
              "      <td>0</td>\n",
              "      <td>432</td>\n",
              "      <td>2021-04-01 12:35:53</td>\n",
              "      <td>187 - Jose Maria Moreno</td>\n",
              "      <td>2021-04-01 12:35:53</td>\n",
              "      <td>NaN</td>\n",
              "      <td>NaN</td>\n",
              "      <td>141425</td>\n",
              "      <td>MEMBER</td>\n",
              "      <td>ICONIC</td>\n",
              "      <td>CODE</td>\n",
              "    </tr>\n",
              "  </tbody>\n",
              "</table>\n",
              "</div>"
            ],
            "text/plain": [
              "              ID Estado cerrado  ...  Modelo de bicicleta  Origen de viaje\n",
              "124010  11054021     TERMINATED  ...               ICONIC             CODE\n",
              "394023  10729878     TERMINATED  ...               ICONIC             CODE\n",
              "435319  10679335     TERMINATED  ...               ICONIC             CODE\n",
              "\n",
              "[3 rows x 13 columns]"
            ]
          },
          "metadata": {
            "tags": []
          },
          "execution_count": 8
        }
      ]
    },
    {
      "cell_type": "markdown",
      "metadata": {
        "id": "XIzkifCbgC_k"
      },
      "source": [
        "Solo 3 **124010** **394023** y **435319**. Parecen ser viajes que no se efectuaron finalmente."
      ]
    },
    {
      "cell_type": "code",
      "metadata": {
        "id": "w2pxR3lRgUjI"
      },
      "source": [
        "recorridos_2021 = recorridos_2021.dropna()"
      ],
      "execution_count": null,
      "outputs": []
    },
    {
      "cell_type": "code",
      "metadata": {
        "colab": {
          "base_uri": "https://localhost:8080/",
          "height": 66
        },
        "id": "qbvKALsmgg54",
        "outputId": "def317a4-7c0e-43d9-890a-468a678fa829"
      },
      "source": [
        "df1 = recorridos_2021[recorridos_2021.isna().any(axis=1)]\n",
        "df1"
      ],
      "execution_count": null,
      "outputs": [
        {
          "output_type": "execute_result",
          "data": {
            "text/html": [
              "<div>\n",
              "<style scoped>\n",
              "    .dataframe tbody tr th:only-of-type {\n",
              "        vertical-align: middle;\n",
              "    }\n",
              "\n",
              "    .dataframe tbody tr th {\n",
              "        vertical-align: top;\n",
              "    }\n",
              "\n",
              "    .dataframe thead th {\n",
              "        text-align: right;\n",
              "    }\n",
              "</style>\n",
              "<table border=\"1\" class=\"dataframe\">\n",
              "  <thead>\n",
              "    <tr style=\"text-align: right;\">\n",
              "      <th></th>\n",
              "      <th>ID</th>\n",
              "      <th>Estado cerrado</th>\n",
              "      <th>Duración</th>\n",
              "      <th>Id de estación de inicio</th>\n",
              "      <th>Fecha de inicio</th>\n",
              "      <th>Nombre de estación de inicio</th>\n",
              "      <th>Fecha de fin</th>\n",
              "      <th>Id de estación de fin de viaje</th>\n",
              "      <th>Nombre de estación de fin de viaje</th>\n",
              "      <th>ID de ciclista</th>\n",
              "      <th>Tipo de ciclista</th>\n",
              "      <th>Modelo de bicicleta</th>\n",
              "      <th>Origen de viaje</th>\n",
              "    </tr>\n",
              "  </thead>\n",
              "  <tbody>\n",
              "  </tbody>\n",
              "</table>\n",
              "</div>"
            ],
            "text/plain": [
              "Empty DataFrame\n",
              "Columns: [ID, Estado cerrado, Duración, Id de estación de inicio, Fecha de inicio, Nombre de estación de inicio, Fecha de fin, Id de estación de fin de viaje, Nombre de estación de fin de viaje, ID de ciclista, Tipo de ciclista, Modelo de bicicleta, Origen de viaje]\n",
              "Index: []"
            ]
          },
          "metadata": {
            "tags": []
          },
          "execution_count": 10
        }
      ]
    },
    {
      "cell_type": "markdown",
      "metadata": {
        "id": "OnwzayeegkB2"
      },
      "source": [
        "Compruebo de que ya no hay casos con **NaN**"
      ]
    },
    {
      "cell_type": "markdown",
      "metadata": {
        "id": "Cm5K6-_TS1LQ"
      },
      "source": [
        "Información del Data Frame"
      ]
    },
    {
      "cell_type": "code",
      "metadata": {
        "colab": {
          "base_uri": "https://localhost:8080/"
        },
        "id": "nmkV2DU8S4W8",
        "outputId": "eb83b38d-55e6-435b-dde1-05098c5ff7d9"
      },
      "source": [
        "recorridos_2021.info()"
      ],
      "execution_count": null,
      "outputs": [
        {
          "output_type": "stream",
          "text": [
            "<class 'pandas.core.frame.DataFrame'>\n",
            "Int64Index: 1328723 entries, 0 to 1328725\n",
            "Data columns (total 13 columns):\n",
            " #   Column                              Non-Null Count    Dtype  \n",
            "---  ------                              --------------    -----  \n",
            " 0   ID                                  1328723 non-null  int64  \n",
            " 1   Estado cerrado                      1328723 non-null  object \n",
            " 2   Duración                            1328723 non-null  int64  \n",
            " 3   Id de estación de inicio            1328723 non-null  int64  \n",
            " 4   Fecha de inicio                     1328723 non-null  object \n",
            " 5   Nombre de estación de inicio        1328723 non-null  object \n",
            " 6   Fecha de fin                        1328723 non-null  object \n",
            " 7   Id de estación de fin de viaje      1328723 non-null  float64\n",
            " 8   Nombre de estación de fin de viaje  1328723 non-null  object \n",
            " 9   ID de ciclista                      1328723 non-null  int64  \n",
            " 10  Tipo de ciclista                    1328723 non-null  object \n",
            " 11  Modelo de bicicleta                 1328723 non-null  object \n",
            " 12  Origen de viaje                     1328723 non-null  object \n",
            "dtypes: float64(1), int64(4), object(8)\n",
            "memory usage: 141.9+ MB\n"
          ],
          "name": "stdout"
        }
      ]
    },
    {
      "cell_type": "markdown",
      "metadata": {
        "id": "eY_xNyqfWcrx"
      },
      "source": [
        "Transformo la Columna de 'Id de estacion de fin de viaje' a int64 para que comparta el tipo de columna con la de 'Id de estación de inicio'"
      ]
    },
    {
      "cell_type": "code",
      "metadata": {
        "id": "x-T_fBp5WWfj"
      },
      "source": [
        "recorridos_2021['Id de estación de fin de viaje'] = recorridos_2021['Id de estación de fin de viaje'].astype(np.int64)"
      ],
      "execution_count": null,
      "outputs": []
    },
    {
      "cell_type": "markdown",
      "metadata": {
        "id": "zRpoeUi6nq4B"
      },
      "source": [
        "Corrijo los nombres de las columnas que refieren a la estación para que tengan el mismo formato"
      ]
    },
    {
      "cell_type": "code",
      "metadata": {
        "id": "T_vjnCYMXFsl"
      },
      "source": [
        "recorridos_2021.rename(columns={'Id de estación de inicio': 'Id de estación de inicio de viaje', 'Nombre de estación de inicio': 'Nombre de estación de inicio de viaje'}, inplace=True)"
      ],
      "execution_count": null,
      "outputs": []
    },
    {
      "cell_type": "markdown",
      "metadata": {
        "id": "3L3J32XMVC1l"
      },
      "source": [
        "Transformo las columnas que tienen datos de fecha pero estan como objeto"
      ]
    },
    {
      "cell_type": "code",
      "metadata": {
        "id": "_Uuc2-QoTdAL"
      },
      "source": [
        "recorridos_2021['Fecha de inicio'] = pd.to_datetime(recorridos_2021['Fecha de inicio'])\n",
        "recorridos_2021['Fecha de fin'] = pd.to_datetime(recorridos_2021['Fecha de fin'])"
      ],
      "execution_count": null,
      "outputs": []
    },
    {
      "cell_type": "markdown",
      "metadata": {
        "id": "5LtJvo6qhjdK"
      },
      "source": [
        "Valores unicos por columna"
      ]
    },
    {
      "cell_type": "code",
      "metadata": {
        "colab": {
          "base_uri": "https://localhost:8080/"
        },
        "id": "Fy78FFG6S_ZS",
        "outputId": "8e2a8259-baa6-4b8c-f89e-072c935b672a"
      },
      "source": [
        "for col in recorridos_2021:\n",
        "    print(col)\n",
        "    print(recorridos_2021[col].unique())"
      ],
      "execution_count": null,
      "outputs": [
        {
          "output_type": "stream",
          "text": [
            "ID\n",
            "[11204995 11204938 11204928 ...  9646394  9646393  9646392]\n",
            "Estado cerrado\n",
            "['NORMAL' 'FORCED_CLOSED' 'TERMINATED' 'BIKE_SEEN']\n",
            "Duración\n",
            "[  437   406   299 ... 19355 20560 46903]\n",
            "Id de estación de inicio de viaje\n",
            "[131 387 232 117 212 161 179 261 190  65  82 359  64 121 425 162 372 200\n",
            " 202  74 194 174  22   3 172 299 239 284   7 273 111 268 183 255 206 263\n",
            " 203 227 433  93 329 132  30 112 189  84  87 231 163 216 222 275  94 156\n",
            " 118 441 242   5 116 135   8  96 376 187  14  70 167 392 291 449 213  17\n",
            " 353  83 403   4 153 182 158  91  27 171  54 235 248 322  25   9 150 223\n",
            " 355  76  89  92  20  29 204 236  58  45  56 364 435  33 166 120  69  36\n",
            "  41 130 104 277 333 386  75   6 281 210 316 144 137 269 101  44 432 254\n",
            "  99  80 181 169 128  23  12 229 175 165 278  85 155  49 257 262  50 400\n",
            " 124 308 214 361 146 215  71 252  66  46  95 151 407 220 245  63 271 370\n",
            " 186 230 304  35  60  86  24 280 424 444 149 448 168 323 342 152 358 302\n",
            " 289 107 193 138  32 247 196  73 184 382 335 426  13 318  51 258 205  79\n",
            " 428  38 311 294  21  98  26 416 188 126 324  59   2  48 219 270 385 368\n",
            " 336 378 199 241  43 114 197 164 363 374 265 191 301 207 134  42 105]\n",
            "Fecha de inicio\n",
            "['2021-06-02T16:14:35.000000000' '2021-06-02T16:11:01.000000000'\n",
            " '2021-06-02T16:10:08.000000000' ... '2021-01-01T00:08:37.000000000'\n",
            " '2021-01-01T00:06:50.000000000' '2021-01-01T00:04:26.000000000']\n",
            "Nombre de estación de inicio de viaje\n",
            "['131- HOSPITAL DE CLÍNICAS' '278 - Donato Alvarez' '252 - Tamborini'\n",
            " '117 - HUMBERTO 1°' '129 - Velasco' '161 - Humahuaca' '179 - CASA SAN'\n",
            " '272 - Plaza Bruno Giordano' '190 - JUNCAL' '065 - Julián Álvarez'\n",
            " '082 - HOSPITAL ITALIANO' '250 - Fleni' '064 - RIOBAMBA' '121 - YATAY'\n",
            " '394 - Av. La Plata' '162 - LARREA Y BARTOLOMÉ MITRE'\n",
            " '322 - MARTÍ Y DIRECTORIO' '200 - AUSTRIA Y FRENCH'\n",
            " '001 - FACULTAD DE DERECHO' '074 - INSTITUTO  LELOIR'\n",
            " '194 - PERÓN Y ACUÑA DE FIGUEROA' '174 - MINISTERIO DE EDUCACION'\n",
            " '022 - Arenales' '003 - ADUANA' '172 - BRASIL' '221 - CULPINA'\n",
            " '391 - Plaza República de Ecuador' '229 - RIGLOS' '007 - OBELISCO'\n",
            " '223 - GAINZA' '111 - MACACHA GUEMES' '399 - GARCIA DEL RIO'\n",
            " '183 - VIRREY CEVALLOS' '374 - Puan' '159 - Fitz Roy & Gorriti'\n",
            " '270 - PLAZA DEL ANGEL GRIS' '108 - Usina del Arte' '188 - Aranguren'\n",
            " '273 - Plazoleta Colombia' '093 - CARLOS CALVO' '100 - Plaza Gurruchaga'\n",
            " '132 - CORRIENTES' '030 - Peña' '112 - 9 de Julio' '189 - POSADAS'\n",
            " '084 - Lavalle' '087 - Guayaquil' '384 - PLAZA BENITO NAZAR'\n",
            " '163 - ONCE II' '059 - Coronel Diaz' '160 - Godoy Cruz y Libertador'\n",
            " '256 - PLAZA NORUEGA' '094 - GÚZMAN' '156 - Plaza Alemania'\n",
            " '118 - MEXICO' '016 - Legislatura' '103 - MALBA' '005 - Plaza Italia'\n",
            " '116 - HOSPITAL ALEMÁN' '135 - MARCELO T. DE ALVEAR' '008 - Congreso'\n",
            " '096 - Carlos Gardel' '324 - Las Victorias' '261 - QUINTEROS LIDORO'\n",
            " '014 - Pacifico' '070 - ARAOZ' '275 - PLAZA 24 DE SEPTIEMBRE'\n",
            " '297 - TRONADOR Y GARCÍA DEL RÍO' '244 - UADE' '352 - San Jose de Flores'\n",
            " '136 - Acevedo' '017 - Plaza Almagro' '237 - Madero Office'\n",
            " '083 - Paraná' '316 - Buenos Aires' '004 - Plaza Roma'\n",
            " '153 - JUAN MANUEL DE BLANES' '182 - RAVIGNANI Y GUATEMALA'\n",
            " '158 - VILLARROEL' '091 - Pasco' '027 - Montevideo' '171 - Pasteur'\n",
            " '054 - Acuña de Figueroa' '281 - Villa Urquiza' '346 - Plaza Zapiola'\n",
            " '289 - MONTAÑESES' '025 - Plaza Guemes' '009 - Parque Las Heras'\n",
            " '150 - RODRIGO BUENO' '178 - José Marmol'\n",
            " '242 - Plazoleta Rafael del Riego' '076 - Ayacucho' '089 - Cabello'\n",
            " '092 - Salcedo' '020 - Distrito Audiovisual' '029 - Parque Centenario'\n",
            " '167 - Hipólito Yrigoyen' '254 - Plaza Rafael Hernandez'\n",
            " '058 - Ministro Carranza' '045 - Uruguay' '056 - Plaza Palermo Viejo'\n",
            " '381 - Matienzo Y Arce' '227 -Club Ciudad de Buenos Aires'\n",
            " '033 - Facultad de Medicina' '166 - Cementerio de Recoleta'\n",
            " '120 - HOSPITAL RAMOS MEJIA' '069 - Ecuador' '036 - MAIPÚ'\n",
            " '041 - Urquiza y Rondeau' '130 - RETIRO II' '104 - Federico Lacroze'\n",
            " '292 - PLAZA BOLIVIA' '203 - Beiro' '277 - Coghlan'\n",
            " '075 - Plaza Primero de Mayo' '006 - Parque Lezama' '350 - Plaza Irlanda'\n",
            " '335 - General Urquiza' '205 - SAN MARTIN' '144 - PUEYRREDÓN'\n",
            " '137 - AZOPARDO Y CHILE' '260 - SAN MIGUEL DE GARICOITS' '101 - Fitz Roy'\n",
            " '044 - Ecoparque' '187 - Jose Maria Moreno' '276 - PRIMERA JUNTA'\n",
            " '099 - Malabia' '080 - DOBLAS' '181 - BILLINGHURST Y MANSILLA'\n",
            " '169 - FACULTAD DE PSICOLOGIA' '128 - PARQUE DEL BAJO' '023 - Suipacha'\n",
            " '012 - Plaza Vicente Lopez' '243 - PLAZOLETA CELEDONIO FLORES'\n",
            " '147 - Constitución' '165 - PLAZA MONSEÑOR MIGUEL DE ANDREA'\n",
            " '233 - MONROE' '085 - AGUERO' '155 - Parque José Evaristo Uriburu'\n",
            " '049 - 33 Orientales' '264 - Plaza Marcos Sastre'\n",
            " '349 - Plaza Saenz Peña' '050 - Hospital Rivadavia' '313 - De Los Incas'\n",
            " '124 - UGARTECHE' '251 - Solar de la Abadía' '142 - Armenia y Gorriti'\n",
            " '258 - Plaza J.J. Paso' '146 - Hospital Francés' '113 - Guatemala'\n",
            " '071 - CERRITO' '331 - CALIFORNIA' '066 - Billinghurst' '046 - Chile'\n",
            " '095 - ESMERALDA' '151 - AIME PAINÉ' '330 - Parque Avellaneda'\n",
            " '097 - Avelino Diaz' '248 - Husares' '063 - Reconquista'\n",
            " '365 - Venancio Flores' '305 - Plaza Martin Rodriguez' '186 - MANZANA 66'\n",
            " '259 - PLAZA CASTELLI' '395 - Agronomia II' '035 - INGENIERO BUTTY'\n",
            " '060 - 25 De Mayo' '086 - SAAVEDRA' '024 - ALSINA' '222 - SIMON BOLIVAR'\n",
            " '387 - Luna' '061-Ministerio de Economia' '149 - LIMA' '393 - Barrio 31'\n",
            " '168 - Estados Unidos' '240 - ECHEVERRIA' '218 - Campana'\n",
            " '152 - JULIETA LANTERI' '249 - Balbín' '340 - PLAZA NUEVA POMPEYA'\n",
            " '255 - BARRANCAS DE BELGRANO' '107 - HOSPITAL GARRAHAN'\n",
            " '193 - ARENALES Y AGUERO' '138 - Hospital Britanico' '032 - Catedral'\n",
            " '282 - Tronador' '196 - HOSPITAL ARGERICH' '073 - Ruy Díaz de Guzmán'\n",
            " '184 - Pedro Echague' '204 - Biarritz' '206 - Galicia'\n",
            " '396 - PLAZA ALBERTI' '013 - ONCE' '285 - ESPINOSA' '051 - TUCUMAN'\n",
            " '336 - La Pampa' '125 - F.J.Santamaria de Oro' '079 - AZUCENA VILLAFLOR'\n",
            " '225 - HOSPITAL TORNU' '038 - Plaza Libertad' '213 - Hospital Alvear'\n",
            " '363 - Udaondo' '021 - Parque Patricios' '037- CLAUDIA PÍA BRAUDACCO'\n",
            " '026 - JUANA MANSO I' '257 - Plaza Francisco Ramirez'\n",
            " '373 - Jorgelina De Simone' '126 - Ministerio de Justicia y Seguridad'\n",
            " '280 - JURAMENTO' '018 - Independencia' '002 - Retiro I'\n",
            " '034 - Colonia Express' '140 - Las Casas' '370 - Beauchef'\n",
            " '268 - Plaza Aristóbulo Del Valle' '378 - AGRONOMIA'\n",
            " '207 - PLAZA ARENALES' '215 - HOSPITAL ALVAREZ'\n",
            " '199 - ESTADOS UNIDOS Y BOEDO' '348 - Villa del Parque'\n",
            " '334 - CENTRO DE EXPOSICIONES' '114 - DELLA PAOLERA'\n",
            " '197 - PLAZA CIUDAD DE UDINE' '164 - FACULTAD DE INGENERIA'\n",
            " '354 - José Martí' '367 - Eva Perón' '361 - Plaza Don Segundo Sombra'\n",
            " '191 - Rivadavia y 9 de Julio' '309 - UTN II' '123 - Armenia'\n",
            " '134 - DON BOSCO' '042 - Diagonal Norte' '105 - 15 DE NOVIEMBRE']\n",
            "Fecha de fin\n",
            "['2021-06-02T16:21:52.000000000' '2021-06-02T16:17:47.000000000'\n",
            " '2021-06-02T16:15:07.000000000' ... '2021-01-01T00:28:06.000000000'\n",
            " '2021-01-01T00:24:01.000000000' '2021-01-01T00:34:21.000000000']\n",
            "Id de estación de fin de viaje\n",
            "[ 38 262 386 175 158 121 126 316  54 200  25 230  41  96 407  64 204 214\n",
            "  63 191 130  29 172 255 161   5 280   4 275 186 144 263   6 167 179 131\n",
            "  94 335 174 151 194 116 242  14 322 182 222  46   7 213 202  74 124  44\n",
            "  33 165 385 239 355  84 163  83 156 219 193  35  82  26 364  99 107  75\n",
            "  30 229  50 232 289 135 278 215 212  51 128 220  66   8  80 257 254 181\n",
            "   9  49 210   3 235 416  58 376 155 261 111 277 435 184 216  20  65 273\n",
            " 281  48 190 387 104 236  93 342 449 189 149 448 203 248  27  85 400 164\n",
            " 183  70 137 153  86 206 171  59 162 294 299 252 227 318 425 323  22 132\n",
            " 112  45 269 187  17  69 284 117  92 359  71 433 432  13  23 308 329  87\n",
            "  89  36 363 372 150  76  73 304  32 223 311 441 114  91  56 118 120 247\n",
            " 268 152 368 382 361 169  79  12 426   2 258 424 231 271 378 196 197 166\n",
            "  60 302 146 324 353 428 392 168 205 265 403 245 138  95 358 291 270 101\n",
            " 370  98 188 336 199 444  24 241  21  43 374 333 288 301 447 207 134  42\n",
            "  47 105 427]\n",
            "Nombre de estación de fin de viaje\n",
            "['038 - Plaza Libertad' '349 - Plaza Saenz Peña' '277 - Coghlan'\n",
            " '147 - Constitución' '158 - VILLARROEL' '121 - YATAY'\n",
            " '126 - Ministerio de Justicia y Seguridad' '205 - SAN MARTIN'\n",
            " '054 - Acuña de Figueroa' '200 - AUSTRIA Y FRENCH' '025 - Plaza Guemes'\n",
            " '259 - PLAZA CASTELLI' '041 - Urquiza y Rondeau' '096 - Carlos Gardel'\n",
            " '330 - Parque Avellaneda' '064 - RIOBAMBA' '167 - Hipólito Yrigoyen'\n",
            " '142 - Armenia y Gorriti' '063 - Reconquista'\n",
            " '191 - Rivadavia y 9 de Julio' '130 - RETIRO II'\n",
            " '029 - Parque Centenario' '172 - BRASIL' '374 - Puan' '161 - Humahuaca'\n",
            " '005 - Plaza Italia' '222 - SIMON BOLIVAR' '004 - Plaza Roma'\n",
            " '256 - PLAZA NORUEGA' '186 - MANZANA 66' '144 - PUEYRREDÓN'\n",
            " '270 - PLAZA DEL ANGEL GRIS' '006 - Parque Lezama'\n",
            " '275 - PLAZA 24 DE SEPTIEMBRE' '179 - CASA SAN'\n",
            " '131- HOSPITAL DE CLÍNICAS' '094 - GÚZMAN' '206 - Galicia'\n",
            " '174 - MINISTERIO DE EDUCACION' '151 - AIME PAINÉ'\n",
            " '194 - PERÓN Y ACUÑA DE FIGUEROA' '116 - HOSPITAL ALEMÁN' '103 - MALBA'\n",
            " '014 - Pacifico' '289 - MONTAÑESES' '182 - RAVIGNANI Y GUATEMALA'\n",
            " '160 - Godoy Cruz y Libertador' '046 - Chile' '007 - OBELISCO'\n",
            " '136 - Acevedo' '001 - FACULTAD DE DERECHO' '074 - INSTITUTO  LELOIR'\n",
            " '124 - UGARTECHE' '044 - Ecoparque' '033 - Facultad de Medicina'\n",
            " '165 - PLAZA MONSEÑOR MIGUEL DE ANDREA'\n",
            " '268 - Plaza Aristóbulo Del Valle' '391 - Plaza República de Ecuador'\n",
            " '242 - Plazoleta Rafael del Riego' '084 - Lavalle' '163 - ONCE II'\n",
            " '083 - Paraná' '156 - Plaza Alemania' '140 - Las Casas'\n",
            " '193 - ARENALES Y AGUERO' '035 - INGENIERO BUTTY'\n",
            " '082 - HOSPITAL ITALIANO' '026 - JUANA MANSO I' '381 - Matienzo Y Arce'\n",
            " '099 - Malabia' '107 - HOSPITAL GARRAHAN' '075 - Plaza Primero de Mayo'\n",
            " '030 - Peña' '243 - PLAZOLETA CELEDONIO FLORES'\n",
            " '050 - Hospital Rivadavia' '252 - Tamborini'\n",
            " '255 - BARRANCAS DE BELGRANO' '135 - MARCELO T. DE ALVEAR' '233 - MONROE'\n",
            " '113 - Guatemala' '129 - Velasco' '051 - TUCUMAN' '128 - PARQUE DEL BAJO'\n",
            " '097 - Avelino Diaz' '066 - Billinghurst' '008 - Congreso' '080 - DOBLAS'\n",
            " '264 - Plaza Marcos Sastre' '276 - PRIMERA JUNTA'\n",
            " '181 - BILLINGHURST Y MANSILLA' '009 - Parque Las Heras'\n",
            " '049 - 33 Orientales' '335 - General Urquiza' '003 - ADUANA'\n",
            " '281 - Villa Urquiza' '257 - Plaza Francisco Ramirez'\n",
            " '058 - Ministro Carranza' '324 - Las Victorias'\n",
            " '155 - Parque José Evaristo Uriburu' '272 - Plaza Bruno Giordano'\n",
            " '111 - MACACHA GUEMES' '292 - PLAZA BOLIVIA'\n",
            " '227 -Club Ciudad de Buenos Aires' '184 - Pedro Echague'\n",
            " '059 - Coronel Diaz' '020 - Distrito Audiovisual' '065 - Julián Álvarez'\n",
            " '223 - GAINZA' '350 - Plaza Irlanda' '034 - Colonia Express'\n",
            " '190 - JUNCAL' '278 - Donato Alvarez' '104 - Federico Lacroze'\n",
            " '254 - Plaza Rafael Hernandez' '093 - CARLOS CALVO' '218 - Campana'\n",
            " '352 - San Jose de Flores' '189 - POSADAS' '149 - LIMA' '393 - Barrio 31'\n",
            " '108 - Usina del Arte' '346 - Plaza Zapiola' '027 - Montevideo'\n",
            " '085 - AGUERO' '313 - De Los Incas' '164 - FACULTAD DE INGENERIA'\n",
            " '183 - VIRREY CEVALLOS' '070 - ARAOZ' '137 - AZOPARDO Y CHILE'\n",
            " '153 - JUAN MANUEL DE BLANES' '086 - SAAVEDRA' '159 - Fitz Roy & Gorriti'\n",
            " '171 - Pasteur' '018 - Independencia' '162 - LARREA Y BARTOLOMÉ MITRE'\n",
            " '363 - Udaondo' '221 - CULPINA' '331 - CALIFORNIA' '188 - Aranguren'\n",
            " '285 - ESPINOSA' '394 - Av. La Plata' '240 - ECHEVERRIA' '022 - Arenales'\n",
            " '132 - CORRIENTES' '112 - 9 de Julio' '045 - Uruguay'\n",
            " '260 - SAN MIGUEL DE GARICOITS' '261 - QUINTEROS LIDORO'\n",
            " '017 - Plaza Almagro' '069 - Ecuador' '229 - RIGLOS' '117 - HUMBERTO 1°'\n",
            " '092 - Salcedo' '250 - Fleni' '071 - CERRITO' '273 - Plazoleta Colombia'\n",
            " '187 - Jose Maria Moreno' '013 - ONCE' '023 - Suipacha'\n",
            " '251 - Solar de la Abadía' '100 - Plaza Gurruchaga' '087 - Guayaquil'\n",
            " '089 - Cabello' '036 - MAIPÚ' '354 - José Martí'\n",
            " '322 - MARTÍ Y DIRECTORIO' '150 - RODRIGO BUENO' '076 - Ayacucho'\n",
            " '073 - Ruy Díaz de Guzmán' '395 - Agronomia II' '032 - Catedral'\n",
            " '178 - José Marmol' '213 - Hospital Alvear' '016 - Legislatura'\n",
            " '114 - DELLA PAOLERA' '091 - Pasco' '056 - Plaza Palermo Viejo'\n",
            " '118 - MEXICO' '120 - HOSPITAL RAMOS MEJIA' '282 - Tronador'\n",
            " '399 - GARCIA DEL RIO' '152 - JULIETA LANTERI' '378 - AGRONOMIA'\n",
            " '204 - Biarritz' '258 - Plaza J.J. Paso' '169 - FACULTAD DE PSICOLOGIA'\n",
            " '079 - AZUCENA VILLAFLOR' '012 - Plaza Vicente Lopez'\n",
            " '396 - PLAZA ALBERTI' '002 - Retiro I' '336 - La Pampa' '387 - Luna'\n",
            " '384 - PLAZA BENITO NAZAR' '365 - Venancio Flores'\n",
            " '215 - HOSPITAL ALVAREZ' '196 - HOSPITAL ARGERICH'\n",
            " '197 - PLAZA CIUDAD DE UDINE' '166 - Cementerio de Recoleta'\n",
            " '060 - 25 De Mayo' '340 - PLAZA NUEVA POMPEYA' '146 - Hospital Francés'\n",
            " '280 - JURAMENTO' '237 - Madero Office' '225 - HOSPITAL TORNU'\n",
            " '297 - TRONADOR Y GARCÍA DEL RÍO' '168 - Estados Unidos'\n",
            " '125 - F.J.Santamaria de Oro' '361 - Plaza Don Segundo Sombra'\n",
            " '316 - Buenos Aires' '248 - Husares' '138 - Hospital Britanico'\n",
            " '095 - ESMERALDA' '249 - Balbín' '244 - UADE' '370 - Beauchef'\n",
            " '101 - Fitz Roy' '305 - Plaza Martin Rodriguez'\n",
            " '037- CLAUDIA PÍA BRAUDACCO' '373 - Jorgelina De Simone'\n",
            " '207 - PLAZA ARENALES' '199 - ESTADOS UNIDOS Y BOEDO'\n",
            " '061-Ministerio de Economia' '024 - ALSINA' '348 - Villa del Parque'\n",
            " '021 - Parque Patricios' '334 - CENTRO DE EXPOSICIONES' '367 - Eva Perón'\n",
            " '203 - Beiro' '333 - MIRO' '309 - UTN II' 'Balboa Definitivo'\n",
            " '123 - Armenia' '134 - DON BOSCO' '042 - Diagonal Norte'\n",
            " '047 - Colegio Nacional de Buenos Aires' '105 - 15 DE NOVIEMBRE'\n",
            " '397 - PLAZA MATHEU']\n",
            "ID de ciclista\n",
            "[119795 348428 690073 ... 678795 447308 678907]\n",
            "Tipo de ciclista\n",
            "['MEMBER']\n",
            "Modelo de bicicleta\n",
            "['ICONIC']\n",
            "Origen de viaje\n",
            "['CODE' 'KEYCARD' 'MOBILE']\n"
          ],
          "name": "stdout"
        }
      ]
    },
    {
      "cell_type": "markdown",
      "metadata": {
        "id": "d3jCLjCyhETB"
      },
      "source": [
        "Chequeo si los Id de cada viaje son únicos"
      ]
    },
    {
      "cell_type": "code",
      "metadata": {
        "colab": {
          "base_uri": "https://localhost:8080/"
        },
        "id": "8vB07uIoT3dN",
        "outputId": "2aad06ca-5de0-4cd3-d74b-2d7e446c17cd"
      },
      "source": [
        "recorridos_2021.duplicated(subset='ID', keep='first').sum()"
      ],
      "execution_count": null,
      "outputs": [
        {
          "output_type": "execute_result",
          "data": {
            "text/plain": [
              "0"
            ]
          },
          "metadata": {
            "tags": []
          },
          "execution_count": 16
        }
      ]
    },
    {
      "cell_type": "markdown",
      "metadata": {
        "id": "OUhlAfqc7nBu"
      },
      "source": [
        "Efectivamente son unicos"
      ]
    },
    {
      "cell_type": "code",
      "metadata": {
        "colab": {
          "base_uri": "https://localhost:8080/"
        },
        "id": "xwGQLWG3velh",
        "outputId": "39b03eb1-108b-4f57-c0fa-27c486877deb"
      },
      "source": [
        "recorridos_2021['Duración'].describe()"
      ],
      "execution_count": null,
      "outputs": [
        {
          "output_type": "execute_result",
          "data": {
            "text/plain": [
              "count    1.328723e+06\n",
              "mean     1.213856e+03\n",
              "std      5.711497e+03\n",
              "min      0.000000e+00\n",
              "25%      6.490000e+02\n",
              "50%      1.030000e+03\n",
              "75%      1.531000e+03\n",
              "max      5.513940e+06\n",
              "Name: Duración, dtype: float64"
            ]
          },
          "metadata": {
            "tags": []
          },
          "execution_count": 17
        }
      ]
    },
    {
      "cell_type": "code",
      "metadata": {
        "colab": {
          "base_uri": "https://localhost:8080/"
        },
        "id": "5myvBymCto5c",
        "outputId": "6f92eebd-e1f4-414c-9e5e-46dc720dd4d7"
      },
      "source": [
        "media_hora = recorridos_2021[recorridos_2021['Duración'] <= 1800]\n",
        "media_hora['Duración'].mean()"
      ],
      "execution_count": null,
      "outputs": [
        {
          "output_type": "execute_result",
          "data": {
            "text/plain": [
              "936.1154413911978"
            ]
          },
          "metadata": {
            "tags": []
          },
          "execution_count": 18
        }
      ]
    },
    {
      "cell_type": "code",
      "metadata": {
        "colab": {
          "base_uri": "https://localhost:8080/"
        },
        "id": "_x9sbLIcu6QF",
        "outputId": "ec9c8e53-6576-42ac-f1ec-eeb462657564"
      },
      "source": [
        "y = recorridos_2021[recorridos_2021['Duración'] == 2]\n",
        "y['Estado cerrado'].value_counts()"
      ],
      "execution_count": null,
      "outputs": [
        {
          "output_type": "execute_result",
          "data": {
            "text/plain": [
              "FORCED_CLOSED    10647\n",
              "Name: Estado cerrado, dtype: int64"
            ]
          },
          "metadata": {
            "tags": []
          },
          "execution_count": 19
        }
      ]
    },
    {
      "cell_type": "code",
      "metadata": {
        "colab": {
          "base_uri": "https://localhost:8080/"
        },
        "id": "SbFLOWlRhEMQ",
        "outputId": "a704a4e1-e9c3-41d6-da27-1b7edeba43fe"
      },
      "source": [
        "z = recorridos_2021[recorridos_2021['Duración'] == 0]\n",
        "z['Estado cerrado'].value_counts()"
      ],
      "execution_count": null,
      "outputs": [
        {
          "output_type": "execute_result",
          "data": {
            "text/plain": [
              "TERMINATED    12\n",
              "Name: Estado cerrado, dtype: int64"
            ]
          },
          "metadata": {
            "tags": []
          },
          "execution_count": 98
        }
      ]
    },
    {
      "cell_type": "markdown",
      "metadata": {
        "id": "RynKP6_OYEfd"
      },
      "source": [
        "Todos los viajes que duran 2 segundos corresponden al estado cerrado \"FORCED_CLOSED\" y los que duran 0 segundos corresponden al estado \"TERMINATED\""
      ]
    },
    {
      "cell_type": "code",
      "metadata": {
        "id": "pts5oEfOa9Dz"
      },
      "source": [
        "recorridos_2021 = recorridos_2021[recorridos_2021['Estado cerrado'] != \"FORCED_CLOSED\"]\n",
        "recorridos_2021 = recorridos_2021[recorridos_2021['Estado cerrado'] != \"TERMINATED\"]"
      ],
      "execution_count": null,
      "outputs": []
    },
    {
      "cell_type": "markdown",
      "metadata": {
        "id": "jJhe10_cbKVC"
      },
      "source": [
        "Elimino los casos que no fueron viajes efectivamente."
      ]
    },
    {
      "cell_type": "code",
      "metadata": {
        "colab": {
          "base_uri": "https://localhost:8080/"
        },
        "id": "NMWhhsOnIONf",
        "outputId": "f4046c76-2275-490f-82cf-7668805f1fd4"
      },
      "source": [
        "recorridos_2021['ID'].count()"
      ],
      "execution_count": null,
      "outputs": [
        {
          "output_type": "execute_result",
          "data": {
            "text/plain": [
              "1318064"
            ]
          },
          "metadata": {
            "tags": []
          },
          "execution_count": 100
        }
      ]
    },
    {
      "cell_type": "markdown",
      "metadata": {
        "id": "QiyMaSlMN2_l"
      },
      "source": [
        "En lo que va del año 2021 se realizaron **1.318.064** viajes en 🚲"
      ]
    },
    {
      "cell_type": "markdown",
      "metadata": {
        "id": "YgabgtmxKswO"
      },
      "source": [
        "Ubicacion de estaciones"
      ]
    },
    {
      "cell_type": "code",
      "metadata": {
        "colab": {
          "base_uri": "https://localhost:8080/",
          "height": 609
        },
        "id": "-eoW7NLuHAj4",
        "outputId": "f4fdd18c-c5d3-4c8c-e2f5-8df215815bdb"
      },
      "source": [
        "fig, ax = plt.subplots(figsize = (10,10))\n",
        "caba.to_crs(epsg=4326).plot(ax=ax, color='lightgrey')\n",
        "estaciones_babici.plot(ax=ax)"
      ],
      "execution_count": null,
      "outputs": [
        {
          "output_type": "execute_result",
          "data": {
            "text/plain": [
              "<matplotlib.axes._subplots.AxesSubplot at 0x7fd7d9049650>"
            ]
          },
          "metadata": {
            "tags": []
          },
          "execution_count": 22
        },
        {
          "output_type": "display_data",
          "data": {
            "image/png": "[encoded data removed]",
            "text/plain": [
              "<Figure size 720x720 with 1 Axes>"
            ]
          },
          "metadata": {
            "tags": [],
            "needs_background": "light"
          }
        }
      ]
    },
    {
      "cell_type": "markdown",
      "metadata": {
        "id": "xpVmo4YqnrV9"
      },
      "source": [
        "¿Hay alguna estacion que este contemplada en inicio y no en fin o viceversa?"
      ]
    },
    {
      "cell_type": "code",
      "metadata": {
        "colab": {
          "base_uri": "https://localhost:8080/"
        },
        "id": "YyQyXvHjiWgg",
        "outputId": "367d61b0-ba0a-4f95-83c4-24abe2957d9b"
      },
      "source": [
        "estaciones_ini = recorridos_2021['Id de estación de inicio de viaje'].unique()\n",
        "estaciones_fin = recorridos_2021['Id de estación de fin de viaje'].unique()\n",
        "estaciones_ini = sorted(estaciones_ini)\n",
        "estaciones_fin = sorted(estaciones_fin)\n",
        "\n",
        "list_difference = [item for item in estaciones_ini if item not in estaciones_fin]\n",
        "print(list_difference)\n",
        "list_difference2 = [item for item in estaciones_fin if item not in estaciones_ini]\n",
        "print(list_difference2)"
      ],
      "execution_count": null,
      "outputs": [
        {
          "output_type": "stream",
          "text": [
            "[]\n",
            "[288, 447]\n"
          ],
          "name": "stdout"
        }
      ]
    },
    {
      "cell_type": "code",
      "metadata": {
        "colab": {
          "base_uri": "https://localhost:8080/"
        },
        "id": "e5a32MRLr69r",
        "outputId": "27d38cdd-da94-466c-ed8e-d6c0644c96ea"
      },
      "source": [
        "for item in list_difference2 : print(estaciones_fin.count(item)) "
      ],
      "execution_count": null,
      "outputs": [
        {
          "output_type": "stream",
          "text": [
            "1\n",
            "1\n"
          ],
          "name": "stdout"
        }
      ]
    },
    {
      "cell_type": "markdown",
      "metadata": {
        "id": "wdBm_EILn8Pf"
      },
      "source": [
        "Osea que hay 4 casos de estaciones donde solo se finalizan viajes. Que son las siguientes:"
      ]
    },
    {
      "cell_type": "code",
      "metadata": {
        "colab": {
          "base_uri": "https://localhost:8080/"
        },
        "id": "7ELWOY2_q6O8",
        "outputId": "9cb15721-756d-4d0b-cb8f-41562de052e5"
      },
      "source": [
        "nombre_estaciones_solofin = []\n",
        "for item in list_difference2 : nombre_estaciones_solofin.append(recorridos_2021.loc[recorridos_2021['Id de estación de fin de viaje'] == item].iloc[0]['Nombre de estación de fin de viaje'])\n",
        "nombre_estaciones_solofin"
      ],
      "execution_count": null,
      "outputs": [
        {
          "output_type": "execute_result",
          "data": {
            "text/plain": [
              "['333 - MIRO', 'Balboa Definitivo']"
            ]
          },
          "metadata": {
            "tags": []
          },
          "execution_count": 25
        }
      ]
    },
    {
      "cell_type": "markdown",
      "metadata": {
        "id": "3uR9zo8s37nb"
      },
      "source": [
        "Para ubicarlas voy a ver cuales estan localizadas en el archivo de localizaciones"
      ]
    },
    {
      "cell_type": "code",
      "metadata": {
        "id": "YWiHnnXotO4i"
      },
      "source": [
        "estaciones_solofin = localizaciones[localizaciones['nombre'].isin(nombre_estaciones_solofin)]"
      ],
      "execution_count": null,
      "outputs": []
    },
    {
      "cell_type": "code",
      "metadata": {
        "colab": {
          "base_uri": "https://localhost:8080/",
          "height": 80
        },
        "id": "EyDZV7Oht7I5",
        "outputId": "2f0bb8e3-a774-45ce-ab2b-cdcfec88bd8c"
      },
      "source": [
        "estaciones_solofin"
      ],
      "execution_count": null,
      "outputs": [
        {
          "output_type": "execute_result",
          "data": {
            "text/html": [
              "<div>\n",
              "<style scoped>\n",
              "    .dataframe tbody tr th:only-of-type {\n",
              "        vertical-align: middle;\n",
              "    }\n",
              "\n",
              "    .dataframe tbody tr th {\n",
              "        vertical-align: top;\n",
              "    }\n",
              "\n",
              "    .dataframe thead th {\n",
              "        text-align: right;\n",
              "    }\n",
              "</style>\n",
              "<table border=\"1\" class=\"dataframe\">\n",
              "  <thead>\n",
              "    <tr style=\"text-align: right;\">\n",
              "      <th></th>\n",
              "      <th>WKT</th>\n",
              "      <th>id</th>\n",
              "      <th>codigo</th>\n",
              "      <th>nombre</th>\n",
              "      <th>ubicacion</th>\n",
              "      <th>tipo</th>\n",
              "      <th>horario</th>\n",
              "      <th>anclajes_t</th>\n",
              "    </tr>\n",
              "  </thead>\n",
              "  <tbody>\n",
              "    <tr>\n",
              "      <th>177</th>\n",
              "      <td>POINT (-58.4429507721387 -34.6404899809383)</td>\n",
              "      <td>257</td>\n",
              "      <td>333</td>\n",
              "      <td>333 - MIRO</td>\n",
              "      <td>1684 Miro</td>\n",
              "      <td>AUTOMÁTICA</td>\n",
              "      <td>Estación automática: disponibilidad las 24 horas</td>\n",
              "      <td>19</td>\n",
              "    </tr>\n",
              "  </tbody>\n",
              "</table>\n",
              "</div>"
            ],
            "text/plain": [
              "                                             WKT  ...  anclajes_t\n",
              "177  POINT (-58.4429507721387 -34.6404899809383)  ...          19\n",
              "\n",
              "[1 rows x 8 columns]"
            ]
          },
          "metadata": {
            "tags": []
          },
          "execution_count": 27
        }
      ]
    },
    {
      "cell_type": "markdown",
      "metadata": {
        "id": "UJOqf5vzGzh9"
      },
      "source": [
        "Solo encontre 1, '333 - MIRO'"
      ]
    },
    {
      "cell_type": "code",
      "metadata": {
        "colab": {
          "base_uri": "https://localhost:8080/"
        },
        "id": "6pliT_cpJtLQ",
        "outputId": "6de5bc0e-0351-438b-f273-f3424a3b2390"
      },
      "source": [
        "estaciones_solofin['geometry'] = estaciones_solofin.WKT.apply(wkt.loads)\n",
        "estaciones_solofin.drop('WKT', axis=1, inplace=True) #Drop WKT column\n",
        "\n",
        "# Geopandas GeoDataFrame\n",
        "estaciones_solofin_gdf = gpd.GeoDataFrame(estaciones_solofin, geometry='geometry')"
      ],
      "execution_count": null,
      "outputs": [
        {
          "output_type": "stream",
          "text": [
            "/usr/local/lib/python3.7/dist-packages/ipykernel_launcher.py:1: SettingWithCopyWarning: \n",
            "A value is trying to be set on a copy of a slice from a DataFrame.\n",
            "Try using .loc[row_indexer,col_indexer] = value instead\n",
            "\n",
            "See the caveats in the documentation: https://pandas.pydata.org/pandas-docs/stable/user_guide/indexing.html#returning-a-view-versus-a-copy\n",
            "  \"\"\"Entry point for launching an IPython kernel.\n",
            "/usr/local/lib/python3.7/dist-packages/pandas/core/frame.py:4174: SettingWithCopyWarning: \n",
            "A value is trying to be set on a copy of a slice from a DataFrame\n",
            "\n",
            "See the caveats in the documentation: https://pandas.pydata.org/pandas-docs/stable/user_guide/indexing.html#returning-a-view-versus-a-copy\n",
            "  errors=errors,\n"
          ],
          "name": "stderr"
        }
      ]
    },
    {
      "cell_type": "markdown",
      "metadata": {
        "id": "-Ghsd7n-G64b"
      },
      "source": [
        "¿Donde esta ubicada?"
      ]
    },
    {
      "cell_type": "code",
      "metadata": {
        "id": "czUwcCtVIQ_p"
      },
      "source": [
        "chacabuco = caba.loc[caba['barrio'] == 'PARQUE CHACABUCO']\n",
        "chacabuco = gpd.GeoDataFrame(chacabuco, geometry='geometry')"
      ],
      "execution_count": null,
      "outputs": []
    },
    {
      "cell_type": "code",
      "metadata": {
        "colab": {
          "base_uri": "https://localhost:8080/",
          "height": 433
        },
        "id": "DAUv0ngHDUM_",
        "outputId": "4899db23-c771-41ea-ea19-08f1022fbf72"
      },
      "source": [
        "fig, ax = plt.subplots(figsize = (10,10))\n",
        "chacabuco.to_crs(epsg=4326).plot(ax=ax, color='lightgrey')\n",
        "estaciones_solofin_gdf.plot(ax=ax)"
      ],
      "execution_count": null,
      "outputs": [
        {
          "output_type": "execute_result",
          "data": {
            "text/plain": [
              "<matplotlib.axes._subplots.AxesSubplot at 0x7fd7d046e390>"
            ]
          },
          "metadata": {
            "tags": []
          },
          "execution_count": 30
        },
        {
          "output_type": "display_data",
          "data": {
            "image/png": "[encoded data removed]",
            "text/plain": [
              "<Figure size 720x720 with 1 Axes>"
            ]
          },
          "metadata": {
            "tags": [],
            "needs_background": "light"
          }
        }
      ]
    },
    {
      "cell_type": "markdown",
      "metadata": {
        "id": "lyKFbvQXGIx0"
      },
      "source": [
        "Las estaciones que solo se encuentran en el listado de finalizadas indican que no se originan viajes alli, podrian ser tenidas en cuenta para abastecer a otras estaciones de las bicicletas que se dejan allí"
      ]
    },
    {
      "cell_type": "markdown",
      "metadata": {
        "id": "HeQoLf-P7pMe"
      },
      "source": [
        "¿Cuales son las 10 estaciones mas usadas a la hora de comenzar un viaje?"
      ]
    },
    {
      "cell_type": "code",
      "metadata": {
        "colab": {
          "base_uri": "https://localhost:8080/",
          "height": 265
        },
        "id": "Od4ylF-AzTvc",
        "outputId": "68520696-2074-48e7-c4b7-a64171625d8c"
      },
      "source": [
        "temp1 = recorridos_2021['Nombre de estación de inicio de viaje'].value_counts()\n",
        "temp2 = temp1.head(10)\n",
        "temp2.plot(kind='pie', autopct=\"%0.1f %%\")"
      ],
      "execution_count": null,
      "outputs": [
        {
          "output_type": "execute_result",
          "data": {
            "text/plain": [
              "<matplotlib.axes._subplots.AxesSubplot at 0x7fd7ee879dd0>"
            ]
          },
          "metadata": {
            "tags": []
          },
          "execution_count": 31
        },
        {
          "output_type": "display_data",
          "data": {
            "image/png": "[encoded data removed]",
            "text/plain": [
              "<Figure size 432x288 with 1 Axes>"
            ]
          },
          "metadata": {
            "tags": []
          }
        }
      ]
    },
    {
      "cell_type": "markdown",
      "metadata": {
        "id": "k3Dj5gYw7uER"
      },
      "source": [
        "¿Y a la hora de terminarlo?"
      ]
    },
    {
      "cell_type": "code",
      "metadata": {
        "colab": {
          "base_uri": "https://localhost:8080/",
          "height": 265
        },
        "id": "29vQyoJHsSqV",
        "outputId": "325969ab-07b6-4a09-a318-95c661f82d31"
      },
      "source": [
        "temp3 = recorridos_2021['Nombre de estación de fin de viaje'].value_counts()\n",
        "temp4 = temp3.head(10)\n",
        "temp4.plot(kind='pie', autopct=\"%0.1f %%\")"
      ],
      "execution_count": null,
      "outputs": [
        {
          "output_type": "execute_result",
          "data": {
            "text/plain": [
              "<matplotlib.axes._subplots.AxesSubplot at 0x7fd7cfe2de10>"
            ]
          },
          "metadata": {
            "tags": []
          },
          "execution_count": 32
        },
        {
          "output_type": "display_data",
          "data": {
            "image/png": "[encoded data removed]",
            "text/plain": [
              "<Figure size 432x288 with 1 Axes>"
            ]
          },
          "metadata": {
            "tags": []
          }
        }
      ]
    },
    {
      "cell_type": "code",
      "metadata": {
        "colab": {
          "base_uri": "https://localhost:8080/",
          "height": 623
        },
        "id": "4fUKB2Lbqtqv",
        "outputId": "b8b5518a-a4f5-4949-e81a-fdbfb0c360db"
      },
      "source": [
        "recorridos_2021.sort_values('Duración', ascending=False)"
      ],
      "execution_count": null,
      "outputs": [
        {
          "output_type": "execute_result",
          "data": {
            "text/html": [
              "<div>\n",
              "<style scoped>\n",
              "    .dataframe tbody tr th:only-of-type {\n",
              "        vertical-align: middle;\n",
              "    }\n",
              "\n",
              "    .dataframe tbody tr th {\n",
              "        vertical-align: top;\n",
              "    }\n",
              "\n",
              "    .dataframe thead th {\n",
              "        text-align: right;\n",
              "    }\n",
              "</style>\n",
              "<table border=\"1\" class=\"dataframe\">\n",
              "  <thead>\n",
              "    <tr style=\"text-align: right;\">\n",
              "      <th></th>\n",
              "      <th>ID</th>\n",
              "      <th>Estado cerrado</th>\n",
              "      <th>Duración</th>\n",
              "      <th>Id de estación de inicio de viaje</th>\n",
              "      <th>Fecha de inicio</th>\n",
              "      <th>Nombre de estación de inicio de viaje</th>\n",
              "      <th>Fecha de fin</th>\n",
              "      <th>Id de estación de fin de viaje</th>\n",
              "      <th>Nombre de estación de fin de viaje</th>\n",
              "      <th>ID de ciclista</th>\n",
              "      <th>Tipo de ciclista</th>\n",
              "      <th>Modelo de bicicleta</th>\n",
              "      <th>Origen de viaje</th>\n",
              "    </tr>\n",
              "  </thead>\n",
              "  <tbody>\n",
              "    <tr>\n",
              "      <th>1229340</th>\n",
              "      <td>9761816</td>\n",
              "      <td>NORMAL</td>\n",
              "      <td>5513940</td>\n",
              "      <td>96</td>\n",
              "      <td>2021-01-12 18:38:43</td>\n",
              "      <td>096 - Carlos Gardel</td>\n",
              "      <td>2021-03-17 14:17:43</td>\n",
              "      <td>447</td>\n",
              "      <td>Balboa Definitivo</td>\n",
              "      <td>632395</td>\n",
              "      <td>MEMBER</td>\n",
              "      <td>ICONIC</td>\n",
              "      <td>CODE</td>\n",
              "    </tr>\n",
              "    <tr>\n",
              "      <th>684378</th>\n",
              "      <td>10388494</td>\n",
              "      <td>NORMAL</td>\n",
              "      <td>2279434</td>\n",
              "      <td>73</td>\n",
              "      <td>2021-03-05 00:36:21</td>\n",
              "      <td>073 - Ruy Díaz de Guzmán</td>\n",
              "      <td>2021-03-31 09:46:55</td>\n",
              "      <td>447</td>\n",
              "      <td>Balboa Definitivo</td>\n",
              "      <td>371967</td>\n",
              "      <td>MEMBER</td>\n",
              "      <td>ICONIC</td>\n",
              "      <td>CODE</td>\n",
              "    </tr>\n",
              "    <tr>\n",
              "      <th>1250661</th>\n",
              "      <td>9736741</td>\n",
              "      <td>NORMAL</td>\n",
              "      <td>1679501</td>\n",
              "      <td>116</td>\n",
              "      <td>2021-01-10 03:56:18</td>\n",
              "      <td>116 - HOSPITAL ALEMÁN</td>\n",
              "      <td>2021-01-29 14:27:59</td>\n",
              "      <td>447</td>\n",
              "      <td>Balboa Definitivo</td>\n",
              "      <td>736556</td>\n",
              "      <td>MEMBER</td>\n",
              "      <td>ICONIC</td>\n",
              "      <td>CODE</td>\n",
              "    </tr>\n",
              "    <tr>\n",
              "      <th>939905</th>\n",
              "      <td>10098315</td>\n",
              "      <td>NORMAL</td>\n",
              "      <td>932638</td>\n",
              "      <td>199</td>\n",
              "      <td>2021-02-11 18:12:03</td>\n",
              "      <td>199 - ESTADOS UNIDOS Y BOEDO</td>\n",
              "      <td>2021-02-22 13:16:01</td>\n",
              "      <td>447</td>\n",
              "      <td>Balboa Definitivo</td>\n",
              "      <td>709887</td>\n",
              "      <td>MEMBER</td>\n",
              "      <td>ICONIC</td>\n",
              "      <td>CODE</td>\n",
              "    </tr>\n",
              "    <tr>\n",
              "      <th>1118835</th>\n",
              "      <td>9890068</td>\n",
              "      <td>NORMAL</td>\n",
              "      <td>843018</td>\n",
              "      <td>252</td>\n",
              "      <td>2021-01-23 21:52:50</td>\n",
              "      <td>331 - CALIFORNIA</td>\n",
              "      <td>2021-02-02 16:03:08</td>\n",
              "      <td>447</td>\n",
              "      <td>Balboa Definitivo</td>\n",
              "      <td>524644</td>\n",
              "      <td>MEMBER</td>\n",
              "      <td>ICONIC</td>\n",
              "      <td>CODE</td>\n",
              "    </tr>\n",
              "    <tr>\n",
              "      <th>...</th>\n",
              "      <td>...</td>\n",
              "      <td>...</td>\n",
              "      <td>...</td>\n",
              "      <td>...</td>\n",
              "      <td>...</td>\n",
              "      <td>...</td>\n",
              "      <td>...</td>\n",
              "      <td>...</td>\n",
              "      <td>...</td>\n",
              "      <td>...</td>\n",
              "      <td>...</td>\n",
              "      <td>...</td>\n",
              "      <td>...</td>\n",
              "    </tr>\n",
              "    <tr>\n",
              "      <th>374492</th>\n",
              "      <td>10752998</td>\n",
              "      <td>TERMINATED</td>\n",
              "      <td>0</td>\n",
              "      <td>64</td>\n",
              "      <td>2021-04-09 17:39:13</td>\n",
              "      <td>064 - RIOBAMBA</td>\n",
              "      <td>2021-04-09 17:39:13</td>\n",
              "      <td>447</td>\n",
              "      <td>Balboa Definitivo</td>\n",
              "      <td>763506</td>\n",
              "      <td>MEMBER</td>\n",
              "      <td>ICONIC</td>\n",
              "      <td>CODE</td>\n",
              "    </tr>\n",
              "    <tr>\n",
              "      <th>614626</th>\n",
              "      <td>10467676</td>\n",
              "      <td>TERMINATED</td>\n",
              "      <td>0</td>\n",
              "      <td>3</td>\n",
              "      <td>2021-03-10 12:21:06</td>\n",
              "      <td>003 - ADUANA</td>\n",
              "      <td>2021-03-10 12:21:06</td>\n",
              "      <td>35</td>\n",
              "      <td>035 - INGENIERO BUTTY</td>\n",
              "      <td>175538</td>\n",
              "      <td>MEMBER</td>\n",
              "      <td>ICONIC</td>\n",
              "      <td>CODE</td>\n",
              "    </tr>\n",
              "    <tr>\n",
              "      <th>125783</th>\n",
              "      <td>11052031</td>\n",
              "      <td>TERMINATED</td>\n",
              "      <td>0</td>\n",
              "      <td>120</td>\n",
              "      <td>2021-05-12 11:20:25</td>\n",
              "      <td>120 - HOSPITAL RAMOS MEJIA</td>\n",
              "      <td>2021-05-12 11:20:25</td>\n",
              "      <td>181</td>\n",
              "      <td>181 - BILLINGHURST Y MANSILLA</td>\n",
              "      <td>666762</td>\n",
              "      <td>MEMBER</td>\n",
              "      <td>ICONIC</td>\n",
              "      <td>CODE</td>\n",
              "    </tr>\n",
              "    <tr>\n",
              "      <th>388700</th>\n",
              "      <td>10735789</td>\n",
              "      <td>TERMINATED</td>\n",
              "      <td>0</td>\n",
              "      <td>284</td>\n",
              "      <td>2021-04-07 19:58:02</td>\n",
              "      <td>229 - RIGLOS</td>\n",
              "      <td>2021-04-07 19:58:02</td>\n",
              "      <td>261</td>\n",
              "      <td>272 - Plaza Bruno Giordano</td>\n",
              "      <td>539229</td>\n",
              "      <td>MEMBER</td>\n",
              "      <td>ICONIC</td>\n",
              "      <td>CODE</td>\n",
              "    </tr>\n",
              "    <tr>\n",
              "      <th>242363</th>\n",
              "      <td>10912663</td>\n",
              "      <td>TERMINATED</td>\n",
              "      <td>0</td>\n",
              "      <td>280</td>\n",
              "      <td>2021-04-27 05:27:09</td>\n",
              "      <td>222 - SIMON BOLIVAR</td>\n",
              "      <td>2021-04-27 05:27:09</td>\n",
              "      <td>21</td>\n",
              "      <td>021 - Parque Patricios</td>\n",
              "      <td>428036</td>\n",
              "      <td>MEMBER</td>\n",
              "      <td>ICONIC</td>\n",
              "      <td>CODE</td>\n",
              "    </tr>\n",
              "  </tbody>\n",
              "</table>\n",
              "<p>1318076 rows × 13 columns</p>\n",
              "</div>"
            ],
            "text/plain": [
              "               ID Estado cerrado  ...  Modelo de bicicleta  Origen de viaje\n",
              "1229340   9761816         NORMAL  ...               ICONIC             CODE\n",
              "684378   10388494         NORMAL  ...               ICONIC             CODE\n",
              "1250661   9736741         NORMAL  ...               ICONIC             CODE\n",
              "939905   10098315         NORMAL  ...               ICONIC             CODE\n",
              "1118835   9890068         NORMAL  ...               ICONIC             CODE\n",
              "...           ...            ...  ...                  ...              ...\n",
              "374492   10752998     TERMINATED  ...               ICONIC             CODE\n",
              "614626   10467676     TERMINATED  ...               ICONIC             CODE\n",
              "125783   11052031     TERMINATED  ...               ICONIC             CODE\n",
              "388700   10735789     TERMINATED  ...               ICONIC             CODE\n",
              "242363   10912663     TERMINATED  ...               ICONIC             CODE\n",
              "\n",
              "[1318076 rows x 13 columns]"
            ]
          },
          "metadata": {
            "tags": []
          },
          "execution_count": 33
        }
      ]
    },
    {
      "cell_type": "code",
      "metadata": {
        "id": "zzgsKxOCOELo"
      },
      "source": [
        "x = recorridos_2021['Duración']/60"
      ],
      "execution_count": null,
      "outputs": []
    },
    {
      "cell_type": "code",
      "metadata": {
        "colab": {
          "base_uri": "https://localhost:8080/"
        },
        "id": "t_75VepjOLTE",
        "outputId": "8e3d9ac7-442f-4211-b3b6-fe064a991b03"
      },
      "source": [
        "x.describe()"
      ],
      "execution_count": null,
      "outputs": [
        {
          "output_type": "execute_result",
          "data": {
            "text/plain": [
              "count    1.318076e+06\n",
              "mean     2.039408e+01\n",
              "std      9.555793e+01\n",
              "min      0.000000e+00\n",
              "25%      1.096667e+01\n",
              "50%      1.728333e+01\n",
              "75%      2.561667e+01\n",
              "max      9.189900e+04\n",
              "Name: Duración, dtype: float64"
            ]
          },
          "metadata": {
            "tags": []
          },
          "execution_count": 35
        }
      ]
    },
    {
      "cell_type": "code",
      "metadata": {
        "colab": {
          "base_uri": "https://localhost:8080/"
        },
        "id": "bPrV5-m4PPYe",
        "outputId": "90d45a56-1200-4212-97ba-3869b84251f9"
      },
      "source": [
        "x.max()"
      ],
      "execution_count": null,
      "outputs": [
        {
          "output_type": "execute_result",
          "data": {
            "text/plain": [
              "91899.0"
            ]
          },
          "metadata": {
            "tags": []
          },
          "execution_count": 36
        }
      ]
    },
    {
      "cell_type": "markdown",
      "metadata": {
        "id": "Eafj-sg7icrC"
      },
      "source": [
        "El viaje de duración mas larga es de 63 dias"
      ]
    },
    {
      "cell_type": "code",
      "metadata": {
        "colab": {
          "base_uri": "https://localhost:8080/"
        },
        "id": "Rnp0bTN1iH6m",
        "outputId": "857e57a2-c0ba-4b53-b106-5656f0a879f4"
      },
      "source": [
        "x.mean()"
      ],
      "execution_count": null,
      "outputs": [
        {
          "output_type": "execute_result",
          "data": {
            "text/plain": [
              "20.394080791496716"
            ]
          },
          "metadata": {
            "tags": []
          },
          "execution_count": 104
        }
      ]
    },
    {
      "cell_type": "markdown",
      "metadata": {
        "id": "oSmVXulUiKk7"
      },
      "source": [
        "El viaje promedio es de 20 minutos"
      ]
    },
    {
      "cell_type": "code",
      "metadata": {
        "id": "WhDQkv6kQPYZ"
      },
      "source": [
        "recorridos_2021['Hora de inicio (round)'] = recorridos_2021['Fecha de inicio'].values.astype('<M8[h]')\n",
        "recorridos_2021['Hora de inicio (round)'] = pd.to_datetime(recorridos_2021['Hora de inicio (round)'], format='%H:%M').dt.hour"
      ],
      "execution_count": null,
      "outputs": []
    },
    {
      "cell_type": "code",
      "metadata": {
        "id": "MqUQqkWzXoAb"
      },
      "source": [
        "recorridos_2021['Hora de fin (round)'] = recorridos_2021['Fecha de fin'].values.astype('<M8[h]')\n",
        "recorridos_2021['Hora de fin (round)'] = pd.to_datetime(recorridos_2021['Hora de fin (round)'], format='%H:%M').dt.hour"
      ],
      "execution_count": null,
      "outputs": []
    },
    {
      "cell_type": "code",
      "metadata": {
        "colab": {
          "base_uri": "https://localhost:8080/"
        },
        "id": "ahE9d3W1UmGM",
        "outputId": "c3bc3af5-06b4-4c8b-b119-b81c2a299ae1"
      },
      "source": [
        "recorridos_2021['Hora de fin (round)'].mode()"
      ],
      "execution_count": null,
      "outputs": [
        {
          "output_type": "execute_result",
          "data": {
            "text/plain": [
              "0    18\n",
              "dtype: int64"
            ]
          },
          "metadata": {
            "tags": []
          },
          "execution_count": 103
        }
      ]
    },
    {
      "cell_type": "code",
      "metadata": {
        "colab": {
          "base_uri": "https://localhost:8080/"
        },
        "id": "KAC-CjnFaTKN",
        "outputId": "49dcf3bc-e44f-453c-a9f1-1d54b58de7c2"
      },
      "source": [
        "recorridos_2021['Hora de inicio (round)'].mode()"
      ],
      "execution_count": null,
      "outputs": [
        {
          "output_type": "execute_result",
          "data": {
            "text/plain": [
              "0    18\n",
              "dtype: int64"
            ]
          },
          "metadata": {
            "tags": []
          },
          "execution_count": 105
        }
      ]
    },
    {
      "cell_type": "markdown",
      "metadata": {
        "id": "U3PUWh1Pa7Ed"
      },
      "source": [
        "El horario mas utilizado es el de las 18hs"
      ]
    },
    {
      "cell_type": "markdown",
      "metadata": {
        "id": "nTH-tR1hfYOz"
      },
      "source": [
        "¿Como es la distribucion de horarios?"
      ]
    },
    {
      "cell_type": "code",
      "metadata": {
        "id": "6hAaQQ13z386",
        "colab": {
          "base_uri": "https://localhost:8080/",
          "height": 282
        },
        "outputId": "9edd6d27-1fd2-4c08-fd54-f514ece6bc12"
      },
      "source": [
        "recorridos_2021['Hora de fin (round)'].hist(bins=24)"
      ],
      "execution_count": null,
      "outputs": [
        {
          "output_type": "execute_result",
          "data": {
            "text/plain": [
              "<matplotlib.axes._subplots.AxesSubplot at 0x7fd7c0e21150>"
            ]
          },
          "metadata": {
            "tags": []
          },
          "execution_count": 71
        },
        {
          "output_type": "display_data",
          "data": {
            "image/png": "[encoded data removed]",
            "text/plain": [
              "<Figure size 432x288 with 1 Axes>"
            ]
          },
          "metadata": {
            "tags": [],
            "needs_background": "light"
          }
        }
      ]
    },
    {
      "cell_type": "code",
      "metadata": {
        "colab": {
          "base_uri": "https://localhost:8080/",
          "height": 283
        },
        "id": "C-zqQryWDwJt",
        "outputId": "a295c75f-9db4-4fe7-d816-6dc9e7303778"
      },
      "source": [
        "recorridos_2021['Hora de inicio (round)'].hist(bins=24)"
      ],
      "execution_count": null,
      "outputs": [
        {
          "output_type": "execute_result",
          "data": {
            "text/plain": [
              "<matplotlib.axes._subplots.AxesSubplot at 0x7fd7c0d5f4d0>"
            ]
          },
          "metadata": {
            "tags": []
          },
          "execution_count": 72
        },
        {
          "output_type": "display_data",
          "data": {
            "image/png": "[encoded data removed]",
            "text/plain": [
              "<Figure size 432x288 with 1 Axes>"
            ]
          },
          "metadata": {
            "tags": [],
            "needs_background": "light"
          }
        }
      ]
    },
    {
      "cell_type": "code",
      "metadata": {
        "id": "eDGjGCHrJDVw"
      },
      "source": [
        "recorridos_2021['Fecha de inicio (truncada)'] = recorridos_2021['Fecha de inicio'].dt.date\n",
        "recorridos_2021['Fecha de fin (truncada)'] = recorridos_2021['Fecha de fin'].dt.date"
      ],
      "execution_count": null,
      "outputs": []
    },
    {
      "cell_type": "code",
      "metadata": {
        "colab": {
          "base_uri": "https://localhost:8080/",
          "height": 296
        },
        "id": "e2RCOSWCJigA",
        "outputId": "95901f7d-cc3f-453c-928f-7187c024671d"
      },
      "source": [
        "agrupamiento_fecha_inicio = recorridos_2021.groupby(['Fecha de inicio (truncada)']).count()\n",
        "agrupamiento_fecha_inicio = agrupamiento_fecha_inicio[['ID']]\n",
        "agrupamiento_fecha_inicio.rename(columns={'ID': 'COUNT'}, inplace=True)\n",
        "agrupamiento_fecha_inicio.plot()"
      ],
      "execution_count": null,
      "outputs": [
        {
          "output_type": "execute_result",
          "data": {
            "text/plain": [
              "<matplotlib.axes._subplots.AxesSubplot at 0x7fd7cfccb090>"
            ]
          },
          "metadata": {
            "tags": []
          },
          "execution_count": 44
        },
        {
          "output_type": "display_data",
          "data": {
            "image/png": "[encoded data removed]",
            "text/plain": [
              "<Figure size 432x288 with 1 Axes>"
            ]
          },
          "metadata": {
            "tags": [],
            "needs_background": "light"
          }
        }
      ]
    },
    {
      "cell_type": "code",
      "metadata": {
        "colab": {
          "base_uri": "https://localhost:8080/",
          "height": 296
        },
        "id": "acYAN73JKNmJ",
        "outputId": "a58670b2-ace1-4aee-d5c9-bc9b00c90ca4"
      },
      "source": [
        "agrupamiento_fecha_fin = recorridos_2021.groupby(['Fecha de fin (truncada)']).count()\n",
        "agrupamiento_fecha_fin = agrupamiento_fecha_fin[['ID']]\n",
        "agrupamiento_fecha_fin.rename(columns={'ID': 'COUNT'}, inplace=True)\n",
        "agrupamiento_fecha_fin.plot()"
      ],
      "execution_count": null,
      "outputs": [
        {
          "output_type": "execute_result",
          "data": {
            "text/plain": [
              "<matplotlib.axes._subplots.AxesSubplot at 0x7fd7c1423290>"
            ]
          },
          "metadata": {
            "tags": []
          },
          "execution_count": 74
        },
        {
          "output_type": "display_data",
          "data": {
            "image/png": "[encoded data removed]",
            "text/plain": [
              "<Figure size 432x288 with 1 Axes>"
            ]
          },
          "metadata": {
            "tags": [],
            "needs_background": "light"
          }
        }
      ]
    },
    {
      "cell_type": "markdown",
      "metadata": {
        "id": "Nbfl_qk5NIus"
      },
      "source": [
        "Pareceria que hay un mayor uso en verano hasta mediados de marzo"
      ]
    },
    {
      "cell_type": "code",
      "metadata": {
        "id": "9QEqmsL-PNqK"
      },
      "source": [
        "recorridos_2021['Dia de inicio'] = recorridos_2021['Fecha de inicio'].dt.day_name()"
      ],
      "execution_count": null,
      "outputs": []
    },
    {
      "cell_type": "code",
      "metadata": {
        "colab": {
          "base_uri": "https://localhost:8080/",
          "height": 297
        },
        "id": "Ts47hZXmPfN4",
        "outputId": "6082c01b-300f-4dad-90d2-ffca89dc738c"
      },
      "source": [
        "agrupamiento_dias = recorridos_2021[['ID', 'Dia de inicio']]\n",
        "agrupamiento_dias = agrupamiento_dias.groupby(['Dia de inicio']).count()\n",
        "agrupamiento_dias.sort_values(by=['ID'], ascending=False)"
      ],
      "execution_count": null,
      "outputs": [
        {
          "output_type": "execute_result",
          "data": {
            "text/html": [
              "<div>\n",
              "<style scoped>\n",
              "    .dataframe tbody tr th:only-of-type {\n",
              "        vertical-align: middle;\n",
              "    }\n",
              "\n",
              "    .dataframe tbody tr th {\n",
              "        vertical-align: top;\n",
              "    }\n",
              "\n",
              "    .dataframe thead th {\n",
              "        text-align: right;\n",
              "    }\n",
              "</style>\n",
              "<table border=\"1\" class=\"dataframe\">\n",
              "  <thead>\n",
              "    <tr style=\"text-align: right;\">\n",
              "      <th></th>\n",
              "      <th>ID</th>\n",
              "    </tr>\n",
              "    <tr>\n",
              "      <th>Dia de inicio</th>\n",
              "      <th></th>\n",
              "    </tr>\n",
              "  </thead>\n",
              "  <tbody>\n",
              "    <tr>\n",
              "      <th>Wednesday</th>\n",
              "      <td>221731</td>\n",
              "    </tr>\n",
              "    <tr>\n",
              "      <th>Tuesday</th>\n",
              "      <td>218126</td>\n",
              "    </tr>\n",
              "    <tr>\n",
              "      <th>Thursday</th>\n",
              "      <td>207718</td>\n",
              "    </tr>\n",
              "    <tr>\n",
              "      <th>Friday</th>\n",
              "      <td>205720</td>\n",
              "    </tr>\n",
              "    <tr>\n",
              "      <th>Monday</th>\n",
              "      <td>202665</td>\n",
              "    </tr>\n",
              "    <tr>\n",
              "      <th>Saturday</th>\n",
              "      <td>133548</td>\n",
              "    </tr>\n",
              "    <tr>\n",
              "      <th>Sunday</th>\n",
              "      <td>128568</td>\n",
              "    </tr>\n",
              "  </tbody>\n",
              "</table>\n",
              "</div>"
            ],
            "text/plain": [
              "                   ID\n",
              "Dia de inicio        \n",
              "Wednesday      221731\n",
              "Tuesday        218126\n",
              "Thursday       207718\n",
              "Friday         205720\n",
              "Monday         202665\n",
              "Saturday       133548\n",
              "Sunday         128568"
            ]
          },
          "metadata": {
            "tags": []
          },
          "execution_count": 51
        }
      ]
    },
    {
      "cell_type": "code",
      "metadata": {
        "colab": {
          "base_uri": "https://localhost:8080/",
          "height": 282
        },
        "id": "haHX4HvHVt3s",
        "outputId": "b103713b-2f04-48bc-cb2f-ada38c4cc3d6"
      },
      "source": [
        "recorridos_2021['Dia de inicio'].value_counts().plot()"
      ],
      "execution_count": null,
      "outputs": [
        {
          "output_type": "execute_result",
          "data": {
            "text/plain": [
              "<matplotlib.axes._subplots.AxesSubplot at 0x7fd7c0805b90>"
            ]
          },
          "metadata": {
            "tags": []
          },
          "execution_count": 106
        },
        {
          "output_type": "display_data",
          "data": {
            "image/png": "[encoded data removed]",
            "text/plain": [
              "<Figure size 432x288 with 1 Axes>"
            ]
          },
          "metadata": {
            "tags": [],
            "needs_background": "light"
          }
        }
      ]
    },
    {
      "cell_type": "markdown",
      "metadata": {
        "id": "XsgjkjzkaQuG"
      },
      "source": [
        "Los miercoles parecen ser los dias mas usados"
      ]
    },
    {
      "cell_type": "markdown",
      "metadata": {
        "id": "i4uoBGMIi6er"
      },
      "source": [
        "¿Hay viajes que empiezan y terminan en la misma estación?"
      ]
    },
    {
      "cell_type": "code",
      "metadata": {
        "id": "NTz_abbeky19"
      },
      "source": [
        "recorridos_2021['roundtrip'] = recorridos_2021['Id de estación de inicio de viaje'] == recorridos_2021['Id de estación de fin de viaje']"
      ],
      "execution_count": null,
      "outputs": []
    },
    {
      "cell_type": "code",
      "metadata": {
        "id": "KzmKSQE2lAnO",
        "colab": {
          "base_uri": "https://localhost:8080/",
          "height": 265
        },
        "outputId": "b498c224-90bb-4990-d81f-45c03d69e1ed"
      },
      "source": [
        "recorridos_2021['roundtrip'].value_counts().plot(kind='pie', y='counts', autopct=\"%0.1f %%\")"
      ],
      "execution_count": null,
      "outputs": [
        {
          "output_type": "execute_result",
          "data": {
            "text/plain": [
              "<matplotlib.axes._subplots.AxesSubplot at 0x7fd7b62146d0>"
            ]
          },
          "metadata": {
            "tags": []
          },
          "execution_count": 111
        },
        {
          "output_type": "display_data",
          "data": {
            "image/png": "[encoded data removed]",
            "text/plain": [
              "<Figure size 432x288 with 1 Axes>"
            ]
          },
          "metadata": {
            "tags": []
          }
        }
      ]
    },
    {
      "cell_type": "markdown",
      "metadata": {
        "id": "1pvLYYc7sbOU"
      },
      "source": [
        "Un 7% de los viajes empiezan y terminan en la misma estación."
      ]
    },
    {
      "cell_type": "code",
      "metadata": {
        "id": "v9NHin8bl5Uw"
      },
      "source": [
        "roundtrip = recorridos_2021.loc[recorridos_2021['roundtrip'] == True].copy()\n",
        "roundtrip = roundtrip[['ID','Duración','Nombre de estación de inicio de viaje','Nombre de estación de fin de viaje']]"
      ],
      "execution_count": null,
      "outputs": []
    },
    {
      "cell_type": "code",
      "metadata": {
        "id": "ohLCFyjaoZsn",
        "colab": {
          "base_uri": "https://localhost:8080/"
        },
        "outputId": "f23bd79d-2513-431b-dddd-b6530aac5776"
      },
      "source": [
        "roundtrip['Nombre de estación de inicio de viaje'].value_counts().head(10)"
      ],
      "execution_count": null,
      "outputs": [
        {
          "output_type": "execute_result",
          "data": {
            "text/plain": [
              "152 - JULIETA LANTERI            2741\n",
              "399 - GARCIA DEL RIO             2331\n",
              "160 - Godoy Cruz y Libertador    2124\n",
              "292 - PLAZA BOLIVIA              2121\n",
              "029 - Parque Centenario          2041\n",
              "335 - General Urquiza            1512\n",
              "005 - Plaza Italia               1463\n",
              "014 - Pacifico                   1360\n",
              "255 - BARRANCAS DE BELGRANO      1296\n",
              "350 - Plaza Irlanda              1266\n",
              "Name: Nombre de estación de inicio de viaje, dtype: int64"
            ]
          },
          "metadata": {
            "tags": []
          },
          "execution_count": 158
        }
      ]
    },
    {
      "cell_type": "code",
      "metadata": {
        "id": "NtHbGJnzo9WT",
        "colab": {
          "base_uri": "https://localhost:8080/",
          "height": 419
        },
        "outputId": "b8c5c79f-ed88-42a6-81bc-ce041bc06183"
      },
      "source": [
        "roundtrip.groupby('Nombre de estación de inicio de viaje').size().sort_values(ascending=False).reset_index(name='count')"
      ],
      "execution_count": null,
      "outputs": [
        {
          "output_type": "execute_result",
          "data": {
            "text/html": [
              "<div>\n",
              "<style scoped>\n",
              "    .dataframe tbody tr th:only-of-type {\n",
              "        vertical-align: middle;\n",
              "    }\n",
              "\n",
              "    .dataframe tbody tr th {\n",
              "        vertical-align: top;\n",
              "    }\n",
              "\n",
              "    .dataframe thead th {\n",
              "        text-align: right;\n",
              "    }\n",
              "</style>\n",
              "<table border=\"1\" class=\"dataframe\">\n",
              "  <thead>\n",
              "    <tr style=\"text-align: right;\">\n",
              "      <th></th>\n",
              "      <th>Nombre de estación de inicio de viaje</th>\n",
              "      <th>count</th>\n",
              "    </tr>\n",
              "  </thead>\n",
              "  <tbody>\n",
              "    <tr>\n",
              "      <th>0</th>\n",
              "      <td>152 - JULIETA LANTERI</td>\n",
              "      <td>2741</td>\n",
              "    </tr>\n",
              "    <tr>\n",
              "      <th>1</th>\n",
              "      <td>399 - GARCIA DEL RIO</td>\n",
              "      <td>2331</td>\n",
              "    </tr>\n",
              "    <tr>\n",
              "      <th>2</th>\n",
              "      <td>160 - Godoy Cruz y Libertador</td>\n",
              "      <td>2124</td>\n",
              "    </tr>\n",
              "    <tr>\n",
              "      <th>3</th>\n",
              "      <td>292 - PLAZA BOLIVIA</td>\n",
              "      <td>2121</td>\n",
              "    </tr>\n",
              "    <tr>\n",
              "      <th>4</th>\n",
              "      <td>029 - Parque Centenario</td>\n",
              "      <td>2041</td>\n",
              "    </tr>\n",
              "    <tr>\n",
              "      <th>...</th>\n",
              "      <td>...</td>\n",
              "      <td>...</td>\n",
              "    </tr>\n",
              "    <tr>\n",
              "      <th>228</th>\n",
              "      <td>169 - FACULTAD DE PSICOLOGIA</td>\n",
              "      <td>23</td>\n",
              "    </tr>\n",
              "    <tr>\n",
              "      <th>229</th>\n",
              "      <td>213 - Hospital Alvear</td>\n",
              "      <td>21</td>\n",
              "    </tr>\n",
              "    <tr>\n",
              "      <th>230</th>\n",
              "      <td>105 - 15 DE NOVIEMBRE</td>\n",
              "      <td>17</td>\n",
              "    </tr>\n",
              "    <tr>\n",
              "      <th>231</th>\n",
              "      <td>348 - Villa del Parque</td>\n",
              "      <td>4</td>\n",
              "    </tr>\n",
              "    <tr>\n",
              "      <th>232</th>\n",
              "      <td>036 - MAIPÚ</td>\n",
              "      <td>2</td>\n",
              "    </tr>\n",
              "  </tbody>\n",
              "</table>\n",
              "<p>233 rows × 2 columns</p>\n",
              "</div>"
            ],
            "text/plain": [
              "    Nombre de estación de inicio de viaje  count\n",
              "0                   152 - JULIETA LANTERI   2741\n",
              "1                    399 - GARCIA DEL RIO   2331\n",
              "2           160 - Godoy Cruz y Libertador   2124\n",
              "3                     292 - PLAZA BOLIVIA   2121\n",
              "4                 029 - Parque Centenario   2041\n",
              "..                                    ...    ...\n",
              "228          169 - FACULTAD DE PSICOLOGIA     23\n",
              "229                 213 - Hospital Alvear     21\n",
              "230                 105 - 15 DE NOVIEMBRE     17\n",
              "231                348 - Villa del Parque      4\n",
              "232                           036 - MAIPÚ      2\n",
              "\n",
              "[233 rows x 2 columns]"
            ]
          },
          "metadata": {
            "tags": []
          },
          "execution_count": 159
        }
      ]
    },
    {
      "cell_type": "code",
      "metadata": {
        "id": "X87p44x1nmni",
        "colab": {
          "base_uri": "https://localhost:8080/",
          "height": 265
        },
        "outputId": "7506ed08-5ea1-437e-f234-134a9cbc54c9"
      },
      "source": [
        "roundtrip['Nombre de estación de inicio de viaje'].value_counts().head(10).plot(kind='pie', autopct=\"%0.1f %%\")"
      ],
      "execution_count": null,
      "outputs": [
        {
          "output_type": "execute_result",
          "data": {
            "text/plain": [
              "<matplotlib.axes._subplots.AxesSubplot at 0x7fd7b5d61610>"
            ]
          },
          "metadata": {
            "tags": []
          },
          "execution_count": 160
        },
        {
          "output_type": "display_data",
          "data": {
            "image/png": "[encoded data removed]",
            "text/plain": [
              "<Figure size 432x288 with 1 Axes>"
            ]
          },
          "metadata": {
            "tags": []
          }
        }
      ]
    }
  ]
}